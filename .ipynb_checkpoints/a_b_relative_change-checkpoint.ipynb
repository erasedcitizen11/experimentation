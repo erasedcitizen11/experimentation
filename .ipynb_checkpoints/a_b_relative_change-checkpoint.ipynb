{
 "cells": [
  {
   "cell_type": "markdown",
   "id": "bb2b1894-843e-406e-a517-beb1d4f434d4",
   "metadata": {},
   "source": [
    "### Why a different statistical method may be needed in your A/B tests when measuring the relative change (bootstrapped confidence intervals)."
   ]
  },
  {
   "cell_type": "markdown",
   "id": "53e1a54a-69f0-4beb-b769-2108d838d0ab",
   "metadata": {},
   "source": [
    "#### Introduction"
   ]
  },
  {
   "cell_type": "markdown",
   "id": "2ce61251-2df8-4ed6-98b5-e588ad535ef9",
   "metadata": {},
   "source": [
    "It is a common scenario in A/B testing in needing our variant to beat our control by a predetermined hurdle rate\n",
    "in order for it to be economically viable. Furthermore, this hurdle rate may need to be quoted in relative terms. This is because\n",
    "value is often tied to the relative (or proportional) movement in metrics.   \n",
    "\n",
    "To give an example,\n",
    "consider a scenario where we want to roll out a new website design. \n",
    "If rolled out to 100% of traffic, due to increased resources of maintaing the new website (labour, servers, etc), our costs will increase compared to using the old website. Therefore, any positive\n",
    "change between the variant and control is not enough -  we need the variant to beat the control by a margin that offsets the\n",
    "new ongoing costs. In addition, our estimate of the cost increase is relative to the costs of the old website - our costs will rise by x%\n",
    "if we implement the new website to 100% of traffic. Therefore revenue per user (or whatever KPI is most meaningful) must rise by y% in relative terms to at least break even.  \n",
    "\n",
    "This is whats known as a \"Superiority\" A/B test as labelled by [GeorgiGeorgiev-Geo, 2017](https://blog.analytics-toolkit.com/2017/case-non-inferiority-designs-ab-testing/) . The first  point about a \"Superiority\" test (i.e needing to clear a hurdle rate) is fairly straight-forward to integrate\n",
    "into our hypothesis test. In the case where any positive change were required in our A/B test, we would set up our null hypothesis\n",
    "to be $H_0: \\mu=0$ for a two-sided test or $H_0: \\mu \\le 0$ for a one-sided test. With this condition, we are now\n",
    "exclusively using a one-side hypothesis test: $H_0: \\mu \\le h$ where $h$ is the hurdle rate.\n",
    "\n",
    "The second point about using the relative change (instead of absolute change) has a much bigger impact\n",
    "on our A/B testing approach as we will soon see."
   ]
  },
  {
   "cell_type": "markdown",
   "id": "148e384a-2bd7-4249-89f9-791762364c64",
   "metadata": {},
   "source": [
    "#### Relative change between sample means: Statistical Inference"
   ]
  },
  {
   "cell_type": "markdown",
   "id": "ad11eb91-1219-4de2-aa47-3adb709454cc",
   "metadata": {},
   "source": [
    "For a given sample size, we have the following sampling distributions:                                                                                                \n",
    "\n",
    "\\begin{equation}\n",
    "\\bar{\\Delta}_{rel} = \\frac{\\bar{Y} - \\bar{X}}{\\bar{X}}\n",
    "\\end{equation}\n",
    "\n",
    "\\begin{equation}\n",
    "\\bar{\\Delta}_{abs} = \\bar{Y} - \\bar{X}\n",
    "\\end{equation}\n",
    "\n",
    "where:\n",
    "\n",
    "$\\bar{X}$ is a random variable coming from the sampling distribution for the sample control mean  \n",
    "$\\bar{Y}$ is a random variable coming from the sampling distribution for the sample variant mean  \n",
    "$\\bar{\\Delta}_{rel}$ is a random variable coming from the sampling distribution of the relative change in sample control mean and sample variant mean   \n",
    "$\\bar{\\Delta}_{abs}$ is a random variable coming from the sampling distribution of the absolute change in sample control mean and sample variant mean   \n",
    "Remember that $\\bar{X}$,$\\bar{Y}$,$\\bar{\\Delta}_{rel}$,$\\bar{\\Delta}_{abs}$ are all random variables as\n",
    "they come from sampling distributions.\n"
   ]
  },
  {
   "cell_type": "markdown",
   "id": "b6221a01-fd5f-4bbb-9200-969f57d5675f",
   "metadata": {},
   "source": [
    "Based on the Central Limit Theorem, we know $\\bar{X}$,$\\bar{Y}$  will each converge to a normal distribution as the sample size gets\n",
    "large. We also know that difference between two normal distributions is normal. So it stands that $\\bar{\\Delta}_{abs}$ ~ $N(\\bar{y} - \\bar{x},\\frac{s_1^2}{n_1} + \\frac{s_2^2}{n_2}$) as the sample size gets large. This is the reason we can use the the familiar 95% confidence interval formula for the absolute change in the means:\n",
    "\n",
    "\\begin{equation}\n",
    "(\\bar{y} - \\bar{x}) \\pm 1.96 \\times \\sqrt{\\frac{s_1^2}{n_1} + \\frac{s_2^2}{n_2}}\n",
    "\\end{equation}\n",
    "\n",
    "where:  \n",
    "$\\bar{y}$, $s_2^2$, $n_2$ are the sample mean, sample variance, sample size from the variant group respectively.  \n",
    "$\\bar{x}$, $s_1^2$, $n_1$ are the sample mean, sample variance, sample size from the control group respectively  \n",
    "\n"
   ]
  },
  {
   "cell_type": "markdown",
   "id": "d2108be9-4e9e-4313-a24d-9b6f5acb871d",
   "metadata": {},
   "source": [
    "However, $\\bar{\\Delta}_{rel}$ doesn't follow a known distribution and we can't say how this sampling distribution will behave as\n",
    "$n$ gets large (i.e we can't use the CLT). \n",
    "                \n",
    "A common workaround to estimate the relative change is to calculate the confidence interval for the absolute change in the\n",
    "means and then divide this by the sample mean of the control group to get a metric in \"relative\" units. Then we use the known relationship between\n",
    "confidence intervals and hypothesis tests - if our confidence interval contains our hypothesised value then we can't reject null hypothesis.\n",
    "\n",
    "For example, let's say we need the the variant to beat the control by 10% in relative terms in order\n",
    "to be rolled out. Our sample control mean is 2% and sample variant mean 3%. Our 95% confidence interval for the absolute change is\n",
    "[0.5%,1.5%]. Our 95% confidence interval for the \"naive\" relative change is then [0.5%/2%,1.5%/2%] = [25%,75%]."
   ]
  },
  {
   "cell_type": "markdown",
   "id": "9f11f2a4-8898-4bcb-ab14-8652a86bb583",
   "metadata": {},
   "source": [
    "Mathematically, we can define the \"naive\" relative change as:  \n",
    "\n",
    "\\begin{equation}\n",
    "\\bar{\\Delta}_{naive-rel} = \\frac{\\bar{Y} - \\bar{X}}{\\bar{x}}\n",
    "\\end{equation}\n",
    "\n",
    "where:\n",
    "$\\bar{x}$  is the mean of the control sample we actually observe  \n",
    "\n",
    "In other words, we calculate the sampling distribution for the absolute change and then scale it by a \n",
    "constant (the constant is the mean of the control sample we actually observe) to \"approximate\" the sampling distribution\n",
    "for relative change.\n",
    "\n"
   ]
  },
  {
   "cell_type": "markdown",
   "id": "36cc1443-19da-4404-b866-74ecfca4796e",
   "metadata": {},
   "source": [
    "#### Naive relative change vs True relative change"
   ]
  },
  {
   "cell_type": "markdown",
   "id": "047a813e-8517-4b71-9745-e98787b8bdd4",
   "metadata": {},
   "source": [
    "Is our naive sampling distribution likely to be similar to the true sampling distribution for relative change? We can turn to numerical methods to answer this question. \n",
    "Firstly, we can approximate the true sampling distribution for the relative change between the sample means with Bootstrapping. Bootstrapping is a resampling technique employed on the original sample which estimates the sampling distribution of a specified statistic. \n",
    "Bootstrapping will estimate the sampling distribution of any chosen test statistic on any population distribution (except for a few exceptions which are not applicable in this setup).\n",
    "\n",
    "Secondly, we need to calculate both sampling distributions (naive transform and bootstrapped) a large number of times based on different random samples\n",
    "to prove our estimates hold generally. We therefore use Monte Carlo simulation to estimate the median standard error and median mean for both sampling distributions. Note\n",
    "that we specify the median rather than the average as we are likely to obtain some extreme values for our mean and standard error estimates from the bootstrapped sampling distributions due to the nature of the bootstrap procedure at relatively small sample sizes/low conversion rates."
   ]
  },
  {
   "cell_type": "markdown",
   "id": "9afc2b92-14d8-4572-8dc7-4fa5f9ede4ce",
   "metadata": {},
   "source": [
    "1. Draw a random sample of size n from both the control and variant groups with predetermined means. Each observation is just a Bernouilli trial so will either\n",
    "be 0 or 1 (the means are just the probability of success).\n",
    "2. Estimate the sampling distribution for the relative change using a) Bootstrapping and  b) the naive transform. We use 1000 data points to represent each\n",
    "     sampling distribution.\n",
    "3. Record the standard error (standard deviation of the sampling distributions) and the sample median from both sampling distributions.\n",
    "4. Repeat step 1-3 a large number of times (i.e simulation step)"
   ]
  },
  {
   "cell_type": "code",
   "execution_count": 44,
   "id": "852d9dbb-84a6-40a1-9679-9338bdd35b3e",
   "metadata": {},
   "outputs": [],
   "source": [
    "#statistic for the bootstrap - true relative change in sample means\n",
    "def statistic_rel(x, y):\n",
    "    control_mean_if_zero=0.000000001\n",
    "    if (np.mean(x)==0):\n",
    "        return (np.mean(y)-np.mean(x))/control_mean_if_zero\n",
    "    else:\n",
    "        return (np.mean(y)-np.mean(x))/np.mean(x)"
   ]
  },
  {
   "cell_type": "code",
   "execution_count": 45,
   "id": "b76e2814-299f-471a-84c5-18e0901be0b8",
   "metadata": {},
   "outputs": [],
   "source": [
    "import numpy as np\n",
    "import matplotlib.pyplot as plt\n",
    "from scipy.stats import bootstrap\n",
    "import pandas as pd\n",
    "import math\n",
    "\n",
    "def mc_sim_binomial( cr_control, cr_variant, n,n_trials):\n",
    "    #store the stats\n",
    "    sd_bootstrap=[]\n",
    "    sd_naive=[]\n",
    "    mean_bootstrap=[]\n",
    "    mean_naive=[]\n",
    "    \n",
    "    for sim in range(n_trials):\n",
    "        control = np.random.binomial(1, cr_control, n)\n",
    "        variant = np.random.binomial(1, cr_variant, n)\n",
    "\n",
    "        #naive relative change sampling distribution approximation using absolute change\n",
    "        clt_sampling_dist_abs_change=np.random.normal(\n",
    "                                                    loc=variant.mean()-control.mean(),\n",
    "                                                    scale=math.sqrt((np.var(control)/n)+(np.var(variant)/n)),\n",
    "                                                    size=1000)/np.mean(control)\n",
    "\n",
    "        #true relative change sampling distribution using bootstrapping\n",
    "        data=(control,variant)\n",
    "        b_strap_rel=bootstrap(data, statistic_rel, n_resamples=1000,vectorized=False,)\n",
    "        \n",
    "        sd_error_naive=np.std(clt_sampling_dist_abs_change)\n",
    "        sd_error_bootstrap=np.std(b_strap_rel.bootstrap_distribution)\n",
    "        sd_bootstrap.append(sd_error_bootstrap)\n",
    "        sd_naive.append(sd_error_naive)\n",
    "    \n",
    "        mean_est_naive=np.mean(clt_sampling_dist_abs_change)\n",
    "        mean_est_bootstrap=np.mean(b_strap_rel.bootstrap_distribution)\n",
    "        mean_bootstrap.append(mean_est_bootstrap)\n",
    "        mean_naive.append(mean_est_naive)\n",
    "        \n",
    "    return (sd_bootstrap,sd_naive,mean_bootstrap,mean_naive)\n",
    "\n"
   ]
  },
  {
   "cell_type": "markdown",
   "id": "1462c413-50e5-4b81-adc4-d38c30a4a68f",
   "metadata": {},
   "source": [
    "Let's consider a scenario where the variant mean exceeds the control mean by 50% in relative terms."
   ]
  },
  {
   "cell_type": "code",
   "execution_count": 46,
   "id": "7545483e-b79f-4726-834b-30a570597a15",
   "metadata": {},
   "outputs": [],
   "source": [
    "res=mc_sim_binomial(cr_control = 0.03,\n",
    "                    cr_variant = 0.045,\n",
    "                    n=1000,\n",
    "                    n_trials=500\n",
    "                    )"
   ]
  },
  {
   "cell_type": "code",
   "execution_count": 47,
   "id": "577cc79a-f805-468f-9b4c-b66b8292e432",
   "metadata": {},
   "outputs": [
    {
     "data": {
      "text/plain": [
       "<matplotlib.legend.Legend at 0x26053d195e0>"
      ]
     },
     "execution_count": 47,
     "metadata": {},
     "output_type": "execute_result"
    },
    {
     "data": {
      "image/png": "[encoded data removed]",
      "text/plain": [
       "<Figure size 640x480 with 1 Axes>"
      ]
     },
     "metadata": {},
     "output_type": "display_data"
    }
   ],
   "source": [
    "pd.Series(res[0]).hist(density=True,bins=50,alpha=0.7,range=(0,1.5),label='std_error_bootstrap')\n",
    "pd.Series(res[1]).hist(density=True,bins=50,alpha=0.7,range=(0,1.5),label='std_error_naive')\n",
    "plt.axvline(np.median(res[0]),label='median_std_error_bootstrap: '+str(round(np.median(res[0]),2)),color='red')\n",
    "plt.axvline(np.median(res[1]),label='median_std_error_naive: '+str(round(np.median(res[1]),2)),color='green')\n",
    "plt.title('Probability distribution of Std Errors est via Monte Carlo')\n",
    "\n",
    "plt.legend()"
   ]
  },
  {
   "cell_type": "code",
   "execution_count": 48,
   "id": "5eb51ff3-576c-4b01-86cb-b99be714a14f",
   "metadata": {},
   "outputs": [
    {
     "data": {
      "text/plain": [
       "<matplotlib.legend.Legend at 0x260542a9040>"
      ]
     },
     "execution_count": 48,
     "metadata": {},
     "output_type": "execute_result"
    },
    {
     "data": {
      "image/png": "[encoded data removed]",
      "text/plain": [
       "<Figure size 640x480 with 1 Axes>"
      ]
     },
     "metadata": {},
     "output_type": "display_data"
    }
   ],
   "source": [
    "pd.Series(res[2]).hist(density=True,bins=50,alpha=0.7,range=(-0.5,2.5),label='mean_bootstrap')\n",
    "pd.Series(res[3]).hist(density=True,bins=50,alpha=0.7,range=(-0.5,2.5),label='mean_naive')\n",
    "plt.axvline(np.median(res[2]),label='median_mean_bootstrap: '+str(round(np.median(res[2]),2)),color='red')\n",
    "plt.axvline(np.median(res[3]),label='median_mean_naive: '+str(round(np.median(res[3]),2)),color='green')\n",
    "plt.title('Probability distribution of Sample Means est via Monte Carlo')\n",
    "\n",
    "plt.legend()"
   ]
  },
  {
   "cell_type": "markdown",
   "id": "909634cd-dfc2-40ec-9754-e2b641c9713f",
   "metadata": {},
   "source": [
    "We can see that the standard error from our naive\n",
    "transform-estimated sampling distribution is lower than the standard error on our bootstrapped sampling distribution while the sample means are broadly aligned. In other words,\n",
    "by using this naive transform, we are understating the true variation in our statistic leading to over-confidence in our estimate of the true effect. **The consequence of this is that we will end up rejecting the null hypothesis more often than our accepted significance level**."
   ]
  },
  {
   "cell_type": "markdown",
   "id": "9f6c9ffa-47bc-4f2d-85d1-1604a5e5f44d",
   "metadata": {},
   "source": [
    "Now consider a scenario where the variant mean falls below the control mean by 50% in relative terms."
   ]
  },
  {
   "cell_type": "code",
   "execution_count": 49,
   "id": "23fd2392-0773-439e-8f24-c6e3caf29bdc",
   "metadata": {},
   "outputs": [],
   "source": [
    "res2=mc_sim_binomial(cr_control = 0.03,\n",
    "                    cr_variant = 0.015,\n",
    "                    n=1000,\n",
    "                    n_trials=500\n",
    "                    )"
   ]
  },
  {
   "cell_type": "code",
   "execution_count": 50,
   "id": "2500fcb7-c2c8-41f5-85f2-d3d1f43d56f4",
   "metadata": {},
   "outputs": [
    {
     "data": {
      "text/plain": [
       "<matplotlib.legend.Legend at 0x26052813760>"
      ]
     },
     "execution_count": 50,
     "metadata": {},
     "output_type": "execute_result"
    },
    {
     "data": {
      "image/png": "[encoded data removed]",
      "text/plain": [
       "<Figure size 640x480 with 1 Axes>"
      ]
     },
     "metadata": {},
     "output_type": "display_data"
    }
   ],
   "source": [
    "pd.Series(res2[0]).hist(density=True,bins=50,alpha=0.7,range=(0,0.5),label='std_error_bootstrap')\n",
    "pd.Series(res2[1]).hist(density=True,bins=50,alpha=0.7,range=(0,0.5),label='std_error_naive')\n",
    "plt.axvline(np.median(res2[0]),label='median_std_error_bootstrap: '+str(round(np.median(res2[0]),2)),color='red')\n",
    "plt.axvline(np.median(res2[1]),label='median_std_error_naive: '+str(round(np.median(res2[1]),2)),color='green')\n",
    "plt.title('Probability distribution of Std Errors est via Monte Carlo')\n",
    "\n",
    "plt.legend()"
   ]
  },
  {
   "cell_type": "code",
   "execution_count": 51,
   "id": "1b749cda-0117-4127-8292-dc5107c67d3d",
   "metadata": {},
   "outputs": [
    {
     "data": {
      "text/plain": [
       "<matplotlib.legend.Legend at 0x260545624c0>"
      ]
     },
     "execution_count": 51,
     "metadata": {},
     "output_type": "execute_result"
    },
    {
     "data": {
      "image/png": "[encoded data removed]",
      "text/plain": [
       "<Figure size 640x480 with 1 Axes>"
      ]
     },
     "metadata": {},
     "output_type": "display_data"
    }
   ],
   "source": [
    "pd.Series(res2[2]).hist(density=True,bins=30,alpha=0.7,range=(-1,1),label='mean_bootstrap')\n",
    "pd.Series(res2[3]).hist(density=True,bins=30,alpha=0.7,range=(-1,1),label='mean_naive')\n",
    "plt.axvline(np.median(res2[2]),label='median_mean_bootstrap: '+str(round(np.median(res2[2]),2)),color='red')\n",
    "plt.axvline(np.median(res2[3]),label='median_mean_naive: '+str(round(np.median(res2[3]),2)),color='green')\n",
    "plt.title('Probability distribution of Sample Means est via Monte Carlo')\n",
    "\n",
    "plt.legend()"
   ]
  },
  {
   "cell_type": "markdown",
   "id": "a2426f3e-6494-45cf-ab2b-e0a3393b5c24",
   "metadata": {},
   "source": [
    "Our results have flipped compared to the case where the true effect was positive: the standard error from our naive relative change estimate is now higher than the standard error from our bootstrapped sampling distribution.\n",
    "The consequence of this scenario is that we have introduced extra unwarranted uncertainty into our estimate. **So we will end up failing to reject the null\n",
    "hypothesis more often that we should in situations when there actually is an effect present (i.e reduced power)**"
   ]
  },
  {
   "cell_type": "markdown",
   "id": "b602ebb9-58d3-4e9a-b3c9-fd402efcff72",
   "metadata": {
    "tags": []
   },
   "source": [
    "#### Type 1 error impact (Naive vs Bootstrap)"
   ]
  },
  {
   "cell_type": "markdown",
   "id": "d0a41568-3699-412e-bd4d-c796a5a9fb21",
   "metadata": {},
   "source": [
    "All of our conclusions so far have been on the assumption that we are measuring the true sampling distribution for relative change with our bootstrap\n",
    "technique - now it's time to validate that claim! If our bootstrapped approximation really does capture the correct sampling distribution for the \n",
    "relative change then our empirical Type 1 error (which we can estimate via Monte Carlo) should be equal to the significance level we set before the test.\n",
    "\n",
    "We can also adopt a similar approach for our naive approach to estimate the sampling distribution for relative change.\n",
    "In the case of positive effect (variant mean > control mean), we should expect to see a higher empirical type 1 error rate\n",
    "vs nominal type 1 error rate. We can set this up as follows:  \n",
    "    \n",
    "1. Set up our hypothesis test with significance $\\alpha$ as being the following:  \n",
    "$H_0: {\\Delta}_{rel}$ is less than or equal to x%  \n",
    "$H_A: {\\Delta}_{rel}$ is greater x%  \n",
    "2. Set the population means for the control and variant so that the population relative change is equal to x%. This is the\n",
    "    largest number the population relative change can take and still satisfy the null hypothesis.\n",
    "3. Draw a random sample of size n from both the control and variant groups with these pre-defined means.   \n",
    "4. Estimate the sampling distribution for the relative change using bootstrapping and the naive transform. \n",
    "5. Construct the $(1-2\\alpha)$ confidence interval for both sampling distributions. If the confidence interval clears the hurdle, then we can reject the one-sided null hypothesis at significance level $\\alpha$ we laid out in step 1.\n",
    "6. Repeat step 3-6 a large number of times and count the proportion of times we reject our null hypothesis. If specified correctly, it should be $\\alpha$                                                 "
   ]
  },
  {
   "cell_type": "code",
   "execution_count": null,
   "id": "703c8fe3-a6c2-43cd-823c-fcaf6b29512d",
   "metadata": {},
   "outputs": [],
   "source": [
    "def mc_sim_binomial_2(  cr_control, \n",
    "                        n,\n",
    "                        n_trials,\n",
    "                        trc,\n",
    "                        alpha):\n",
    "    \n",
    "    trc_reject=0 #for bootstrap\n",
    "    nrc_reject=0 #for naive\n",
    "    cr_variant=cr_control*(1+trc)\n",
    "    \n",
    "    for sim in range(n_trials):\n",
    "        control = np.random.binomial(1, cr_control, n)\n",
    "        variant = np.random.binomial(1, cr_variant, n)\n",
    "\n",
    "        #naive relative change sampling distribution approximation using absolute change\n",
    "        clt_sampling_dist_abs_change=np.random.normal(\n",
    "                                                    loc=variant.mean()-control.mean(),\n",
    "                                                    scale=math.sqrt((np.var(control)/n)+(np.var(variant)/n)),\n",
    "                                                    size=1000)/np.mean(control)\n",
    "        ci_b_abs = np.percentile(clt_sampling_dist_abs_change,q=alpha*100),np.percentile(clt_sampling_dist_abs_change,q=100*(1-alpha))\n",
    "        \n",
    "        # check if confidence interval clears true value\n",
    "        if ci_b_abs[0] > trc:\n",
    "            brc_reject += 1\n",
    "            \n",
    "        # true relative change sampling distribution using bootstrapping\n",
    "        data=(control,variant)\n",
    "        b_strap_rel=bootstrap(data, statistic_rel, n_resamples=1000,vectorized=False,confidence_level=1-2*alpha)\n",
    "        ci_b = b_strap_rel.confidence_interval\n",
    "     \n",
    "        # check if confidence interval clears true value\n",
    "        if ci_b[0] > trc:\n",
    "            trc_reject += 1\n",
    "            \n",
    "\n",
    "        \n",
    "    return (trc_reject/n_trials,brc_reject/n_trials)"
   ]
  },
  {
   "cell_type": "code",
   "execution_count": 1,
   "id": "76ff54f1-b322-4df1-9e75-fbba9eeffef6",
   "metadata": {},
   "outputs": [],
   "source": [
    "#all possible permutations\n",
    "# control_rates=[0.005,0.01,0.02,0.05]\n",
    "# trcs=[0.1,0.25,0.5,1,2] #true effects\n",
    "# ns=[500,1000,2000,5000] #sample sizes\n",
    "\n",
    "# #to store results\n",
    "# n_list=[]\n",
    "# trc_list=[]\n",
    "# control_list=[]\n",
    "# type_1_bootstrap=[]\n",
    "# type_1_naive=[]\n",
    "\n",
    "# for n in ns:\n",
    "#     for c in control_rates:\n",
    "#         for trc in trcs:\n",
    "#             res=mc_sim_binomial_2( cr_control=c, \n",
    "#                     n=n,\n",
    "#                     n_trials=1000,\n",
    "#                     trc=trc,\n",
    "#                    alpha=0.05)\n",
    "#             n_list.append(n)\n",
    "#             trc_list.append(trc)\n",
    "#             control_list.append(c)\n",
    "#             type_1_bootstrap.append(res[0])\n",
    "#             type_1_naive.append(res[1])\n"
   ]
  },
  {
   "cell_type": "code",
   "execution_count": 23,
   "id": "5706d726-dda5-408e-9ebc-76efc341ee3e",
   "metadata": {},
   "outputs": [],
   "source": [
    "res_final = pd.DataFrame({\n",
    "    'sample_size': n_list,\n",
    "    'population_relative_change': trc_list,\n",
    "    'control_rate': control_list,\n",
    "    'type_1_error_bootstrap': type_1_bootstrap,\n",
    "    'type_1_error_naive': type_1_naive\n",
    "})"
   ]
  },
  {
   "cell_type": "code",
   "execution_count": 77,
   "id": "c0c7b952-6eae-46d9-98ae-efe2903a4937",
   "metadata": {},
   "outputs": [],
   "source": [
    "import pandas as pd\n",
    "res_final=pd.read_csv('results.csv',usecols=['sample_size','population_relative_change', 'control_rate',\"type_1_error_TRC\",'type_1_error_NRC','population_relative_change'])\n",
    "res_final.columns=['sample_size','effect', 'control_rate',\"type_1_error_bootstrap\",'type_1_error_naive']"
   ]
  },
  {
   "cell_type": "code",
   "execution_count": 91,
   "id": "4200002b-6a24-4d8d-87d7-b8852aec8d6d",
   "metadata": {},
   "outputs": [
    {
     "data": {
      "application/vnd.plotly.v1+json": {
       "config": {
        "plotlyServerURL": "https://plot.ly"
       },
       "data": [
        {
         "hovertemplate": "variable=type_1_error_bootstrap<br>control_rate=0.005<br>effect=0.1<br>sample_size=%{x}<br>value=%{y}<extra></extra>",
         "legendgroup": "type_1_error_bootstrap",
         "marker": {
          "color": "#636efa",
          "symbol": "circle"
         },
         "mode": "markers",
         "name": "type_1_error_bootstrap",
         "orientation": "v",
         "showlegend": true,
         "type": "scatter",
         "x": [
          500,
          1000,
          2000,
          5000
         ],
         "xaxis": "x16",
         "y": [
          0.044,
          0.023,
          0.036,
          0.036
         ],
         "yaxis": "y16"
        },
        {
         "hovertemplate": "variable=type_1_error_bootstrap<br>control_rate=0.005<br>effect=0.25<br>sample_size=%{x}<br>value=%{y}<extra></extra>",
         "legendgroup": "type_1_error_bootstrap",
         "marker": {
          "color": "#636efa",
          "symbol": "circle"
         },
         "mode": "markers",
         "name": "type_1_error_bootstrap",
         "orientation": "v",
         "showlegend": false,
         "type": "scatter",
         "x": [
          500,
          1000,
          2000,
          5000
         ],
         "xaxis": "x17",
         "y": [
          0.065,
          0.025,
          0.03,
          0.051
         ],
         "yaxis": "y17"
        },
        {
         "hovertemplate": "variable=type_1_error_bootstrap<br>control_rate=0.005<br>effect=0.5<br>sample_size=%{x}<br>value=%{y}<extra></extra>",
         "legendgroup": "type_1_error_bootstrap",
         "marker": {
          "color": "#636efa",
          "symbol": "circle"
         },
         "mode": "markers",
         "name": "type_1_error_bootstrap",
         "orientation": "v",
         "showlegend": false,
         "type": "scatter",
         "x": [
          500,
          1000,
          2000,
          5000
         ],
         "xaxis": "x18",
         "y": [
          0.066,
          0.01,
          0.026,
          0.04
         ],
         "yaxis": "y18"
        },
        {
         "hovertemplate": "variable=type_1_error_bootstrap<br>control_rate=0.005<br>effect=1.0<br>sample_size=%{x}<br>value=%{y}<extra></extra>",
         "legendgroup": "type_1_error_bootstrap",
         "marker": {
          "color": "#636efa",
          "symbol": "circle"
         },
         "mode": "markers",
         "name": "type_1_error_bootstrap",
         "orientation": "v",
         "showlegend": false,
         "type": "scatter",
         "x": [
          500,
          1000,
          2000,
          5000
         ],
         "xaxis": "x19",
         "y": [
          0.079,
          0.017,
          0.033,
          0.045
         ],
         "yaxis": "y19"
        },
        {
         "hovertemplate": "variable=type_1_error_bootstrap<br>control_rate=0.005<br>effect=2.0<br>sample_size=%{x}<br>value=%{y}<extra></extra>",
         "legendgroup": "type_1_error_bootstrap",
         "marker": {
          "color": "#636efa",
          "symbol": "circle"
         },
         "mode": "markers",
         "name": "type_1_error_bootstrap",
         "orientation": "v",
         "showlegend": false,
         "type": "scatter",
         "x": [
          500,
          1000,
          2000,
          5000
         ],
         "xaxis": "x20",
         "y": [
          0.071,
          0.015,
          0.044,
          0.045
         ],
         "yaxis": "y20"
        },
        {
         "hovertemplate": "variable=type_1_error_bootstrap<br>control_rate=0.01<br>effect=0.1<br>sample_size=%{x}<br>value=%{y}<extra></extra>",
         "legendgroup": "type_1_error_bootstrap",
         "marker": {
          "color": "#636efa",
          "symbol": "circle"
         },
         "mode": "markers",
         "name": "type_1_error_bootstrap",
         "orientation": "v",
         "showlegend": false,
         "type": "scatter",
         "x": [
          500,
          1000,
          2000,
          5000
         ],
         "xaxis": "x11",
         "y": [
          0.015,
          0.03,
          0.042,
          0.048
         ],
         "yaxis": "y11"
        },
        {
         "hovertemplate": "variable=type_1_error_bootstrap<br>control_rate=0.01<br>effect=0.25<br>sample_size=%{x}<br>value=%{y}<extra></extra>",
         "legendgroup": "type_1_error_bootstrap",
         "marker": {
          "color": "#636efa",
          "symbol": "circle"
         },
         "mode": "markers",
         "name": "type_1_error_bootstrap",
         "orientation": "v",
         "showlegend": false,
         "type": "scatter",
         "x": [
          500,
          1000,
          2000,
          5000
         ],
         "xaxis": "x12",
         "y": [
          0.027,
          0.033,
          0.037,
          0.056
         ],
         "yaxis": "y12"
        },
        {
         "hovertemplate": "variable=type_1_error_bootstrap<br>control_rate=0.01<br>effect=0.5<br>sample_size=%{x}<br>value=%{y}<extra></extra>",
         "legendgroup": "type_1_error_bootstrap",
         "marker": {
          "color": "#636efa",
          "symbol": "circle"
         },
         "mode": "markers",
         "name": "type_1_error_bootstrap",
         "orientation": "v",
         "showlegend": false,
         "type": "scatter",
         "x": [
          500,
          1000,
          2000,
          5000
         ],
         "xaxis": "x13",
         "y": [
          0.021,
          0.03,
          0.05,
          0.04
         ],
         "yaxis": "y13"
        },
        {
         "hovertemplate": "variable=type_1_error_bootstrap<br>control_rate=0.01<br>effect=1.0<br>sample_size=%{x}<br>value=%{y}<extra></extra>",
         "legendgroup": "type_1_error_bootstrap",
         "marker": {
          "color": "#636efa",
          "symbol": "circle"
         },
         "mode": "markers",
         "name": "type_1_error_bootstrap",
         "orientation": "v",
         "showlegend": false,
         "type": "scatter",
         "x": [
          500,
          1000,
          2000,
          5000
         ],
         "xaxis": "x14",
         "y": [
          0.018,
          0.035,
          0.039,
          0.056
         ],
         "yaxis": "y14"
        },
        {
         "hovertemplate": "variable=type_1_error_bootstrap<br>control_rate=0.01<br>effect=2.0<br>sample_size=%{x}<br>value=%{y}<extra></extra>",
         "legendgroup": "type_1_error_bootstrap",
         "marker": {
          "color": "#636efa",
          "symbol": "circle"
         },
         "mode": "markers",
         "name": "type_1_error_bootstrap",
         "orientation": "v",
         "showlegend": false,
         "type": "scatter",
         "x": [
          500,
          1000,
          2000,
          5000
         ],
         "xaxis": "x15",
         "y": [
          0.031,
          0.035,
          0.052,
          0.041
         ],
         "yaxis": "y15"
        },
        {
         "hovertemplate": "variable=type_1_error_bootstrap<br>control_rate=0.02<br>effect=0.1<br>sample_size=%{x}<br>value=%{y}<extra></extra>",
         "legendgroup": "type_1_error_bootstrap",
         "marker": {
          "color": "#636efa",
          "symbol": "circle"
         },
         "mode": "markers",
         "name": "type_1_error_bootstrap",
         "orientation": "v",
         "showlegend": false,
         "type": "scatter",
         "x": [
          500,
          1000,
          2000,
          5000
         ],
         "xaxis": "x6",
         "y": [
          0.027,
          0.035,
          0.044,
          0.05
         ],
         "yaxis": "y6"
        },
        {
         "hovertemplate": "variable=type_1_error_bootstrap<br>control_rate=0.02<br>effect=0.25<br>sample_size=%{x}<br>value=%{y}<extra></extra>",
         "legendgroup": "type_1_error_bootstrap",
         "marker": {
          "color": "#636efa",
          "symbol": "circle"
         },
         "mode": "markers",
         "name": "type_1_error_bootstrap",
         "orientation": "v",
         "showlegend": false,
         "type": "scatter",
         "x": [
          500,
          1000,
          2000,
          5000
         ],
         "xaxis": "x7",
         "y": [
          0.033,
          0.029,
          0.036,
          0.061
         ],
         "yaxis": "y7"
        },
        {
         "hovertemplate": "variable=type_1_error_bootstrap<br>control_rate=0.02<br>effect=0.5<br>sample_size=%{x}<br>value=%{y}<extra></extra>",
         "legendgroup": "type_1_error_bootstrap",
         "marker": {
          "color": "#636efa",
          "symbol": "circle"
         },
         "mode": "markers",
         "name": "type_1_error_bootstrap",
         "orientation": "v",
         "showlegend": false,
         "type": "scatter",
         "x": [
          500,
          1000,
          2000,
          5000
         ],
         "xaxis": "x8",
         "y": [
          0.043,
          0.04,
          0.041,
          0.056
         ],
         "yaxis": "y8"
        },
        {
         "hovertemplate": "variable=type_1_error_bootstrap<br>control_rate=0.02<br>effect=1.0<br>sample_size=%{x}<br>value=%{y}<extra></extra>",
         "legendgroup": "type_1_error_bootstrap",
         "marker": {
          "color": "#636efa",
          "symbol": "circle"
         },
         "mode": "markers",
         "name": "type_1_error_bootstrap",
         "orientation": "v",
         "showlegend": false,
         "type": "scatter",
         "x": [
          500,
          1000,
          2000,
          5000
         ],
         "xaxis": "x9",
         "y": [
          0.035,
          0.032,
          0.036,
          0.043
         ],
         "yaxis": "y9"
        },
        {
         "hovertemplate": "variable=type_1_error_bootstrap<br>control_rate=0.02<br>effect=2.0<br>sample_size=%{x}<br>value=%{y}<extra></extra>",
         "legendgroup": "type_1_error_bootstrap",
         "marker": {
          "color": "#636efa",
          "symbol": "circle"
         },
         "mode": "markers",
         "name": "type_1_error_bootstrap",
         "orientation": "v",
         "showlegend": false,
         "type": "scatter",
         "x": [
          500,
          1000,
          2000,
          5000
         ],
         "xaxis": "x10",
         "y": [
          0.052,
          0.055,
          0.032,
          0.053
         ],
         "yaxis": "y10"
        },
        {
         "hovertemplate": "variable=type_1_error_bootstrap<br>control_rate=0.05<br>effect=0.1<br>sample_size=%{x}<br>value=%{y}<extra></extra>",
         "legendgroup": "type_1_error_bootstrap",
         "marker": {
          "color": "#636efa",
          "symbol": "circle"
         },
         "mode": "markers",
         "name": "type_1_error_bootstrap",
         "orientation": "v",
         "showlegend": false,
         "type": "scatter",
         "x": [
          500,
          1000,
          2000,
          5000
         ],
         "xaxis": "x",
         "y": [
          0.04,
          0.058,
          0.053,
          0.05
         ],
         "yaxis": "y"
        },
        {
         "hovertemplate": "variable=type_1_error_bootstrap<br>control_rate=0.05<br>effect=0.25<br>sample_size=%{x}<br>value=%{y}<extra></extra>",
         "legendgroup": "type_1_error_bootstrap",
         "marker": {
          "color": "#636efa",
          "symbol": "circle"
         },
         "mode": "markers",
         "name": "type_1_error_bootstrap",
         "orientation": "v",
         "showlegend": false,
         "type": "scatter",
         "x": [
          500,
          1000,
          2000,
          5000
         ],
         "xaxis": "x2",
         "y": [
          0.052,
          0.051,
          0.051,
          0.058
         ],
         "yaxis": "y2"
        },
        {
         "hovertemplate": "variable=type_1_error_bootstrap<br>control_rate=0.05<br>effect=0.5<br>sample_size=%{x}<br>value=%{y}<extra></extra>",
         "legendgroup": "type_1_error_bootstrap",
         "marker": {
          "color": "#636efa",
          "symbol": "circle"
         },
         "mode": "markers",
         "name": "type_1_error_bootstrap",
         "orientation": "v",
         "showlegend": false,
         "type": "scatter",
         "x": [
          500,
          1000,
          2000,
          5000
         ],
         "xaxis": "x3",
         "y": [
          0.049,
          0.071,
          0.059,
          0.043
         ],
         "yaxis": "y3"
        },
        {
         "hovertemplate": "variable=type_1_error_bootstrap<br>control_rate=0.05<br>effect=1.0<br>sample_size=%{x}<br>value=%{y}<extra></extra>",
         "legendgroup": "type_1_error_bootstrap",
         "marker": {
          "color": "#636efa",
          "symbol": "circle"
         },
         "mode": "markers",
         "name": "type_1_error_bootstrap",
         "orientation": "v",
         "showlegend": false,
         "type": "scatter",
         "x": [
          500,
          1000,
          2000,
          5000
         ],
         "xaxis": "x4",
         "y": [
          0.045,
          0.046,
          0.046,
          0.055
         ],
         "yaxis": "y4"
        },
        {
         "hovertemplate": "variable=type_1_error_bootstrap<br>control_rate=0.05<br>effect=2.0<br>sample_size=%{x}<br>value=%{y}<extra></extra>",
         "legendgroup": "type_1_error_bootstrap",
         "marker": {
          "color": "#636efa",
          "symbol": "circle"
         },
         "mode": "markers",
         "name": "type_1_error_bootstrap",
         "orientation": "v",
         "showlegend": false,
         "type": "scatter",
         "x": [
          500,
          1000,
          2000,
          5000
         ],
         "xaxis": "x5",
         "y": [
          0.044,
          0.052,
          0.037,
          0.052
         ],
         "yaxis": "y5"
        },
        {
         "hovertemplate": "variable=type_1_error_naive<br>control_rate=0.005<br>effect=0.1<br>sample_size=%{x}<br>value=%{y}<extra></extra>",
         "legendgroup": "type_1_error_naive",
         "marker": {
          "color": "#EF553B",
          "symbol": "circle"
         },
         "mode": "markers",
         "name": "type_1_error_naive",
         "orientation": "v",
         "showlegend": true,
         "type": "scatter",
         "x": [
          500,
          1000,
          2000,
          5000
         ],
         "xaxis": "x16",
         "y": [
          0.02,
          0.047,
          0.048,
          0.052
         ],
         "yaxis": "y16"
        },
        {
         "hovertemplate": "variable=type_1_error_naive<br>control_rate=0.005<br>effect=0.25<br>sample_size=%{x}<br>value=%{y}<extra></extra>",
         "legendgroup": "type_1_error_naive",
         "marker": {
          "color": "#EF553B",
          "symbol": "circle"
         },
         "mode": "markers",
         "name": "type_1_error_naive",
         "orientation": "v",
         "showlegend": false,
         "type": "scatter",
         "x": [
          500,
          1000,
          2000,
          5000
         ],
         "xaxis": "x17",
         "y": [
          0.026,
          0.073,
          0.062,
          0.07
         ],
         "yaxis": "y17"
        },
        {
         "hovertemplate": "variable=type_1_error_naive<br>control_rate=0.005<br>effect=0.5<br>sample_size=%{x}<br>value=%{y}<extra></extra>",
         "legendgroup": "type_1_error_naive",
         "marker": {
          "color": "#EF553B",
          "symbol": "circle"
         },
         "mode": "markers",
         "name": "type_1_error_naive",
         "orientation": "v",
         "showlegend": false,
         "type": "scatter",
         "x": [
          500,
          1000,
          2000,
          5000
         ],
         "xaxis": "x18",
         "y": [
          0.034,
          0.073,
          0.094,
          0.093
         ],
         "yaxis": "y18"
        },
        {
         "hovertemplate": "variable=type_1_error_naive<br>control_rate=0.005<br>effect=1.0<br>sample_size=%{x}<br>value=%{y}<extra></extra>",
         "legendgroup": "type_1_error_naive",
         "marker": {
          "color": "#EF553B",
          "symbol": "circle"
         },
         "mode": "markers",
         "name": "type_1_error_naive",
         "orientation": "v",
         "showlegend": false,
         "type": "scatter",
         "x": [
          500,
          1000,
          2000,
          5000
         ],
         "xaxis": "x19",
         "y": [
          0.056,
          0.109,
          0.109,
          0.132
         ],
         "yaxis": "y19"
        },
        {
         "hovertemplate": "variable=type_1_error_naive<br>control_rate=0.005<br>effect=2.0<br>sample_size=%{x}<br>value=%{y}<extra></extra>",
         "legendgroup": "type_1_error_naive",
         "marker": {
          "color": "#EF553B",
          "symbol": "circle"
         },
         "mode": "markers",
         "name": "type_1_error_naive",
         "orientation": "v",
         "showlegend": false,
         "type": "scatter",
         "x": [
          500,
          1000,
          2000,
          5000
         ],
         "xaxis": "x20",
         "y": [
          0.11,
          0.16,
          0.183,
          0.166
         ],
         "yaxis": "y20"
        },
        {
         "hovertemplate": "variable=type_1_error_naive<br>control_rate=0.01<br>effect=0.1<br>sample_size=%{x}<br>value=%{y}<extra></extra>",
         "legendgroup": "type_1_error_naive",
         "marker": {
          "color": "#EF553B",
          "symbol": "circle"
         },
         "mode": "markers",
         "name": "type_1_error_naive",
         "orientation": "v",
         "showlegend": false,
         "type": "scatter",
         "x": [
          500,
          1000,
          2000,
          5000
         ],
         "xaxis": "x11",
         "y": [
          0.046,
          0.059,
          0.057,
          0.051
         ],
         "yaxis": "y11"
        },
        {
         "hovertemplate": "variable=type_1_error_naive<br>control_rate=0.01<br>effect=0.25<br>sample_size=%{x}<br>value=%{y}<extra></extra>",
         "legendgroup": "type_1_error_naive",
         "marker": {
          "color": "#EF553B",
          "symbol": "circle"
         },
         "mode": "markers",
         "name": "type_1_error_naive",
         "orientation": "v",
         "showlegend": false,
         "type": "scatter",
         "x": [
          500,
          1000,
          2000,
          5000
         ],
         "xaxis": "x12",
         "y": [
          0.064,
          0.061,
          0.061,
          0.083
         ],
         "yaxis": "y12"
        },
        {
         "hovertemplate": "variable=type_1_error_naive<br>control_rate=0.01<br>effect=0.5<br>sample_size=%{x}<br>value=%{y}<extra></extra>",
         "legendgroup": "type_1_error_naive",
         "marker": {
          "color": "#EF553B",
          "symbol": "circle"
         },
         "mode": "markers",
         "name": "type_1_error_naive",
         "orientation": "v",
         "showlegend": false,
         "type": "scatter",
         "x": [
          500,
          1000,
          2000,
          5000
         ],
         "xaxis": "x13",
         "y": [
          0.1,
          0.1,
          0.094,
          0.085
         ],
         "yaxis": "y13"
        },
        {
         "hovertemplate": "variable=type_1_error_naive<br>control_rate=0.01<br>effect=1.0<br>sample_size=%{x}<br>value=%{y}<extra></extra>",
         "legendgroup": "type_1_error_naive",
         "marker": {
          "color": "#EF553B",
          "symbol": "circle"
         },
         "mode": "markers",
         "name": "type_1_error_naive",
         "orientation": "v",
         "showlegend": false,
         "type": "scatter",
         "x": [
          500,
          1000,
          2000,
          5000
         ],
         "xaxis": "x14",
         "y": [
          0.113,
          0.116,
          0.11,
          0.141
         ],
         "yaxis": "y14"
        },
        {
         "hovertemplate": "variable=type_1_error_naive<br>control_rate=0.01<br>effect=2.0<br>sample_size=%{x}<br>value=%{y}<extra></extra>",
         "legendgroup": "type_1_error_naive",
         "marker": {
          "color": "#EF553B",
          "symbol": "circle"
         },
         "mode": "markers",
         "name": "type_1_error_naive",
         "orientation": "v",
         "showlegend": false,
         "type": "scatter",
         "x": [
          500,
          1000,
          2000,
          5000
         ],
         "xaxis": "x15",
         "y": [
          0.176,
          0.166,
          0.181,
          0.164
         ],
         "yaxis": "y15"
        },
        {
         "hovertemplate": "variable=type_1_error_naive<br>control_rate=0.02<br>effect=0.1<br>sample_size=%{x}<br>value=%{y}<extra></extra>",
         "legendgroup": "type_1_error_naive",
         "marker": {
          "color": "#EF553B",
          "symbol": "circle"
         },
         "mode": "markers",
         "name": "type_1_error_naive",
         "orientation": "v",
         "showlegend": false,
         "type": "scatter",
         "x": [
          500,
          1000,
          2000,
          5000
         ],
         "xaxis": "x6",
         "y": [
          0.052,
          0.056,
          0.052,
          0.055
         ],
         "yaxis": "y6"
        },
        {
         "hovertemplate": "variable=type_1_error_naive<br>control_rate=0.02<br>effect=0.25<br>sample_size=%{x}<br>value=%{y}<extra></extra>",
         "legendgroup": "type_1_error_naive",
         "marker": {
          "color": "#EF553B",
          "symbol": "circle"
         },
         "mode": "markers",
         "name": "type_1_error_naive",
         "orientation": "v",
         "showlegend": false,
         "type": "scatter",
         "x": [
          500,
          1000,
          2000,
          5000
         ],
         "xaxis": "x7",
         "y": [
          0.083,
          0.059,
          0.057,
          0.086
         ],
         "yaxis": "y7"
        },
        {
         "hovertemplate": "variable=type_1_error_naive<br>control_rate=0.02<br>effect=0.5<br>sample_size=%{x}<br>value=%{y}<extra></extra>",
         "legendgroup": "type_1_error_naive",
         "marker": {
          "color": "#EF553B",
          "symbol": "circle"
         },
         "mode": "markers",
         "name": "type_1_error_naive",
         "orientation": "v",
         "showlegend": false,
         "type": "scatter",
         "x": [
          500,
          1000,
          2000,
          5000
         ],
         "xaxis": "x8",
         "y": [
          0.099,
          0.093,
          0.081,
          0.107
         ],
         "yaxis": "y8"
        },
        {
         "hovertemplate": "variable=type_1_error_naive<br>control_rate=0.02<br>effect=1.0<br>sample_size=%{x}<br>value=%{y}<extra></extra>",
         "legendgroup": "type_1_error_naive",
         "marker": {
          "color": "#EF553B",
          "symbol": "circle"
         },
         "mode": "markers",
         "name": "type_1_error_naive",
         "orientation": "v",
         "showlegend": false,
         "type": "scatter",
         "x": [
          500,
          1000,
          2000,
          5000
         ],
         "xaxis": "x9",
         "y": [
          0.129,
          0.111,
          0.126,
          0.129
         ],
         "yaxis": "y9"
        },
        {
         "hovertemplate": "variable=type_1_error_naive<br>control_rate=0.02<br>effect=2.0<br>sample_size=%{x}<br>value=%{y}<extra></extra>",
         "legendgroup": "type_1_error_naive",
         "marker": {
          "color": "#EF553B",
          "symbol": "circle"
         },
         "mode": "markers",
         "name": "type_1_error_naive",
         "orientation": "v",
         "showlegend": false,
         "type": "scatter",
         "x": [
          500,
          1000,
          2000,
          5000
         ],
         "xaxis": "x10",
         "y": [
          0.157,
          0.191,
          0.145,
          0.182
         ],
         "yaxis": "y10"
        },
        {
         "hovertemplate": "variable=type_1_error_naive<br>control_rate=0.05<br>effect=0.1<br>sample_size=%{x}<br>value=%{y}<extra></extra>",
         "legendgroup": "type_1_error_naive",
         "marker": {
          "color": "#EF553B",
          "symbol": "circle"
         },
         "mode": "markers",
         "name": "type_1_error_naive",
         "orientation": "v",
         "showlegend": false,
         "type": "scatter",
         "x": [
          500,
          1000,
          2000,
          5000
         ],
         "xaxis": "x",
         "y": [
          0.054,
          0.072,
          0.064,
          0.058
         ],
         "yaxis": "y"
        },
        {
         "hovertemplate": "variable=type_1_error_naive<br>control_rate=0.05<br>effect=0.25<br>sample_size=%{x}<br>value=%{y}<extra></extra>",
         "legendgroup": "type_1_error_naive",
         "marker": {
          "color": "#EF553B",
          "symbol": "circle"
         },
         "mode": "markers",
         "name": "type_1_error_naive",
         "orientation": "v",
         "showlegend": false,
         "type": "scatter",
         "x": [
          500,
          1000,
          2000,
          5000
         ],
         "xaxis": "x2",
         "y": [
          0.079,
          0.073,
          0.065,
          0.082
         ],
         "yaxis": "y2"
        },
        {
         "hovertemplate": "variable=type_1_error_naive<br>control_rate=0.05<br>effect=0.5<br>sample_size=%{x}<br>value=%{y}<extra></extra>",
         "legendgroup": "type_1_error_naive",
         "marker": {
          "color": "#EF553B",
          "symbol": "circle"
         },
         "mode": "markers",
         "name": "type_1_error_naive",
         "orientation": "v",
         "showlegend": false,
         "type": "scatter",
         "x": [
          500,
          1000,
          2000,
          5000
         ],
         "xaxis": "x3",
         "y": [
          0.103,
          0.116,
          0.091,
          0.093
         ],
         "yaxis": "y3"
        },
        {
         "hovertemplate": "variable=type_1_error_naive<br>control_rate=0.05<br>effect=1.0<br>sample_size=%{x}<br>value=%{y}<extra></extra>",
         "legendgroup": "type_1_error_naive",
         "marker": {
          "color": "#EF553B",
          "symbol": "circle"
         },
         "mode": "markers",
         "name": "type_1_error_naive",
         "orientation": "v",
         "showlegend": false,
         "type": "scatter",
         "x": [
          500,
          1000,
          2000,
          5000
         ],
         "xaxis": "x4",
         "y": [
          0.112,
          0.111,
          0.126,
          0.137
         ],
         "yaxis": "y4"
        },
        {
         "hovertemplate": "variable=type_1_error_naive<br>control_rate=0.05<br>effect=2.0<br>sample_size=%{x}<br>value=%{y}<extra></extra>",
         "legendgroup": "type_1_error_naive",
         "marker": {
          "color": "#EF553B",
          "symbol": "circle"
         },
         "mode": "markers",
         "name": "type_1_error_naive",
         "orientation": "v",
         "showlegend": false,
         "type": "scatter",
         "x": [
          500,
          1000,
          2000,
          5000
         ],
         "xaxis": "x5",
         "y": [
          0.167,
          0.186,
          0.175,
          0.168
         ],
         "yaxis": "y5"
        }
       ],
       "layout": {
        "annotations": [
         {
          "showarrow": false,
          "text": "effect=0.1",
          "x": 0.09000000000000001,
          "xanchor": "center",
          "xref": "paper",
          "y": 1,
          "yanchor": "bottom",
          "yref": "paper"
         },
         {
          "showarrow": false,
          "text": "effect=0.25",
          "x": 0.29000000000000004,
          "xanchor": "center",
          "xref": "paper",
          "y": 1,
          "yanchor": "bottom",
          "yref": "paper"
         },
         {
          "showarrow": false,
          "text": "effect=0.5",
          "x": 0.49000000000000005,
          "xanchor": "center",
          "xref": "paper",
          "y": 1,
          "yanchor": "bottom",
          "yref": "paper"
         },
         {
          "showarrow": false,
          "text": "effect=1.0",
          "x": 0.6900000000000002,
          "xanchor": "center",
          "xref": "paper",
          "y": 1,
          "yanchor": "bottom",
          "yref": "paper"
         },
         {
          "showarrow": false,
          "text": "effect=2.0",
          "x": 0.8900000000000001,
          "xanchor": "center",
          "xref": "paper",
          "y": 1,
          "yanchor": "bottom",
          "yref": "paper"
         },
         {
          "showarrow": false,
          "text": "control_rate=0.05",
          "textangle": 90,
          "x": 0.9800000000000001,
          "xanchor": "left",
          "xref": "paper",
          "y": 0.11375,
          "yanchor": "middle",
          "yref": "paper"
         },
         {
          "showarrow": false,
          "text": "control_rate=0.02",
          "textangle": 90,
          "x": 0.9800000000000001,
          "xanchor": "left",
          "xref": "paper",
          "y": 0.37124999999999997,
          "yanchor": "middle",
          "yref": "paper"
         },
         {
          "showarrow": false,
          "text": "control_rate=0.01",
          "textangle": 90,
          "x": 0.9800000000000001,
          "xanchor": "left",
          "xref": "paper",
          "y": 0.62875,
          "yanchor": "middle",
          "yref": "paper"
         },
         {
          "showarrow": false,
          "text": "control_rate=0.005",
          "textangle": 90,
          "x": 0.9800000000000001,
          "xanchor": "left",
          "xref": "paper",
          "y": 0.88625,
          "yanchor": "middle",
          "yref": "paper"
         },
         {
          "font": {
           "color": "black",
           "size": 16
          },
          "showarrow": false,
          "text": "Type 1 Error Rate",
          "textangle": -90,
          "x": -0.1,
          "xref": "paper",
          "y": 0.5,
          "yref": "paper"
         },
         {
          "font": {
           "color": "black",
           "size": 16
          },
          "showarrow": false,
          "text": "Sample Size",
          "textangle": 0,
          "x": 0.5,
          "xref": "paper",
          "y": -0.08,
          "yref": "paper"
         }
        ],
        "height": 1000,
        "legend": {
         "title": {
          "text": "variable"
         },
         "tracegroupgap": 0
        },
        "template": {
         "data": {
          "bar": [
           {
            "error_x": {
             "color": "#2a3f5f"
            },
            "error_y": {
             "color": "#2a3f5f"
            },
            "marker": {
             "line": {
              "color": "#E5ECF6",
              "width": 0.5
             },
             "pattern": {
              "fillmode": "overlay",
              "size": 10,
              "solidity": 0.2
             }
            },
            "type": "bar"
           }
          ],
          "barpolar": [
           {
            "marker": {
             "line": {
              "color": "#E5ECF6",
              "width": 0.5
             },
             "pattern": {
              "fillmode": "overlay",
              "size": 10,
              "solidity": 0.2
             }
            },
            "type": "barpolar"
           }
          ],
          "carpet": [
           {
            "aaxis": {
             "endlinecolor": "#2a3f5f",
             "gridcolor": "white",
             "linecolor": "white",
             "minorgridcolor": "white",
             "startlinecolor": "#2a3f5f"
            },
            "baxis": {
             "endlinecolor": "#2a3f5f",
             "gridcolor": "white",
             "linecolor": "white",
             "minorgridcolor": "white",
             "startlinecolor": "#2a3f5f"
            },
            "type": "carpet"
           }
          ],
          "choropleth": [
           {
            "colorbar": {
             "outlinewidth": 0,
             "ticks": ""
            },
            "type": "choropleth"
           }
          ],
          "contour": [
           {
            "colorbar": {
             "outlinewidth": 0,
             "ticks": ""
            },
            "colorscale": [
             [
              0,
              "#0d0887"
             ],
             [
              0.1111111111111111,
              "#46039f"
             ],
             [
              0.2222222222222222,
              "#7201a8"
             ],
             [
              0.3333333333333333,
              "#9c179e"
             ],
             [
              0.4444444444444444,
              "#bd3786"
             ],
             [
              0.5555555555555556,
              "#d8576b"
             ],
             [
              0.6666666666666666,
              "#ed7953"
             ],
             [
              0.7777777777777778,
              "#fb9f3a"
             ],
             [
              0.8888888888888888,
              "#fdca26"
             ],
             [
              1,
              "#f0f921"
             ]
            ],
            "type": "contour"
           }
          ],
          "contourcarpet": [
           {
            "colorbar": {
             "outlinewidth": 0,
             "ticks": ""
            },
            "type": "contourcarpet"
           }
          ],
          "heatmap": [
           {
            "colorbar": {
             "outlinewidth": 0,
             "ticks": ""
            },
            "colorscale": [
             [
              0,
              "#0d0887"
             ],
             [
              0.1111111111111111,
              "#46039f"
             ],
             [
              0.2222222222222222,
              "#7201a8"
             ],
             [
              0.3333333333333333,
              "#9c179e"
             ],
             [
              0.4444444444444444,
              "#bd3786"
             ],
             [
              0.5555555555555556,
              "#d8576b"
             ],
             [
              0.6666666666666666,
              "#ed7953"
             ],
             [
              0.7777777777777778,
              "#fb9f3a"
             ],
             [
              0.8888888888888888,
              "#fdca26"
             ],
             [
              1,
              "#f0f921"
             ]
            ],
            "type": "heatmap"
           }
          ],
          "heatmapgl": [
           {
            "colorbar": {
             "outlinewidth": 0,
             "ticks": ""
            },
            "colorscale": [
             [
              0,
              "#0d0887"
             ],
             [
              0.1111111111111111,
              "#46039f"
             ],
             [
              0.2222222222222222,
              "#7201a8"
             ],
             [
              0.3333333333333333,
              "#9c179e"
             ],
             [
              0.4444444444444444,
              "#bd3786"
             ],
             [
              0.5555555555555556,
              "#d8576b"
             ],
             [
              0.6666666666666666,
              "#ed7953"
             ],
             [
              0.7777777777777778,
              "#fb9f3a"
             ],
             [
              0.8888888888888888,
              "#fdca26"
             ],
             [
              1,
              "#f0f921"
             ]
            ],
            "type": "heatmapgl"
           }
          ],
          "histogram": [
           {
            "marker": {
             "pattern": {
              "fillmode": "overlay",
              "size": 10,
              "solidity": 0.2
             }
            },
            "type": "histogram"
           }
          ],
          "histogram2d": [
           {
            "colorbar": {
             "outlinewidth": 0,
             "ticks": ""
            },
            "colorscale": [
             [
              0,
              "#0d0887"
             ],
             [
              0.1111111111111111,
              "#46039f"
             ],
             [
              0.2222222222222222,
              "#7201a8"
             ],
             [
              0.3333333333333333,
              "#9c179e"
             ],
             [
              0.4444444444444444,
              "#bd3786"
             ],
             [
              0.5555555555555556,
              "#d8576b"
             ],
             [
              0.6666666666666666,
              "#ed7953"
             ],
             [
              0.7777777777777778,
              "#fb9f3a"
             ],
             [
              0.8888888888888888,
              "#fdca26"
             ],
             [
              1,
              "#f0f921"
             ]
            ],
            "type": "histogram2d"
           }
          ],
          "histogram2dcontour": [
           {
            "colorbar": {
             "outlinewidth": 0,
             "ticks": ""
            },
            "colorscale": [
             [
              0,
              "#0d0887"
             ],
             [
              0.1111111111111111,
              "#46039f"
             ],
             [
              0.2222222222222222,
              "#7201a8"
             ],
             [
              0.3333333333333333,
              "#9c179e"
             ],
             [
              0.4444444444444444,
              "#bd3786"
             ],
             [
              0.5555555555555556,
              "#d8576b"
             ],
             [
              0.6666666666666666,
              "#ed7953"
             ],
             [
              0.7777777777777778,
              "#fb9f3a"
             ],
             [
              0.8888888888888888,
              "#fdca26"
             ],
             [
              1,
              "#f0f921"
             ]
            ],
            "type": "histogram2dcontour"
           }
          ],
          "mesh3d": [
           {
            "colorbar": {
             "outlinewidth": 0,
             "ticks": ""
            },
            "type": "mesh3d"
           }
          ],
          "parcoords": [
           {
            "line": {
             "colorbar": {
              "outlinewidth": 0,
              "ticks": ""
             }
            },
            "type": "parcoords"
           }
          ],
          "pie": [
           {
            "automargin": true,
            "type": "pie"
           }
          ],
          "scatter": [
           {
            "fillpattern": {
             "fillmode": "overlay",
             "size": 10,
             "solidity": 0.2
            },
            "type": "scatter"
           }
          ],
          "scatter3d": [
           {
            "line": {
             "colorbar": {
              "outlinewidth": 0,
              "ticks": ""
             }
            },
            "marker": {
             "colorbar": {
              "outlinewidth": 0,
              "ticks": ""
             }
            },
            "type": "scatter3d"
           }
          ],
          "scattercarpet": [
           {
            "marker": {
             "colorbar": {
              "outlinewidth": 0,
              "ticks": ""
             }
            },
            "type": "scattercarpet"
           }
          ],
          "scattergeo": [
           {
            "marker": {
             "colorbar": {
              "outlinewidth": 0,
              "ticks": ""
             }
            },
            "type": "scattergeo"
           }
          ],
          "scattergl": [
           {
            "marker": {
             "colorbar": {
              "outlinewidth": 0,
              "ticks": ""
             }
            },
            "type": "scattergl"
           }
          ],
          "scattermapbox": [
           {
            "marker": {
             "colorbar": {
              "outlinewidth": 0,
              "ticks": ""
             }
            },
            "type": "scattermapbox"
           }
          ],
          "scatterpolar": [
           {
            "marker": {
             "colorbar": {
              "outlinewidth": 0,
              "ticks": ""
             }
            },
            "type": "scatterpolar"
           }
          ],
          "scatterpolargl": [
           {
            "marker": {
             "colorbar": {
              "outlinewidth": 0,
              "ticks": ""
             }
            },
            "type": "scatterpolargl"
           }
          ],
          "scatterternary": [
           {
            "marker": {
             "colorbar": {
              "outlinewidth": 0,
              "ticks": ""
             }
            },
            "type": "scatterternary"
           }
          ],
          "surface": [
           {
            "colorbar": {
             "outlinewidth": 0,
             "ticks": ""
            },
            "colorscale": [
             [
              0,
              "#0d0887"
             ],
             [
              0.1111111111111111,
              "#46039f"
             ],
             [
              0.2222222222222222,
              "#7201a8"
             ],
             [
              0.3333333333333333,
              "#9c179e"
             ],
             [
              0.4444444444444444,
              "#bd3786"
             ],
             [
              0.5555555555555556,
              "#d8576b"
             ],
             [
              0.6666666666666666,
              "#ed7953"
             ],
             [
              0.7777777777777778,
              "#fb9f3a"
             ],
             [
              0.8888888888888888,
              "#fdca26"
             ],
             [
              1,
              "#f0f921"
             ]
            ],
            "type": "surface"
           }
          ],
          "table": [
           {
            "cells": {
             "fill": {
              "color": "#EBF0F8"
             },
             "line": {
              "color": "white"
             }
            },
            "header": {
             "fill": {
              "color": "#C8D4E3"
             },
             "line": {
              "color": "white"
             }
            },
            "type": "table"
           }
          ]
         },
         "layout": {
          "annotationdefaults": {
           "arrowcolor": "#2a3f5f",
           "arrowhead": 0,
           "arrowwidth": 1
          },
          "autotypenumbers": "strict",
          "coloraxis": {
           "colorbar": {
            "outlinewidth": 0,
            "ticks": ""
           }
          },
          "colorscale": {
           "diverging": [
            [
             0,
             "#8e0152"
            ],
            [
             0.1,
             "#c51b7d"
            ],
            [
             0.2,
             "#de77ae"
            ],
            [
             0.3,
             "#f1b6da"
            ],
            [
             0.4,
             "#fde0ef"
            ],
            [
             0.5,
             "#f7f7f7"
            ],
            [
             0.6,
             "#e6f5d0"
            ],
            [
             0.7,
             "#b8e186"
            ],
            [
             0.8,
             "#7fbc41"
            ],
            [
             0.9,
             "#4d9221"
            ],
            [
             1,
             "#276419"
            ]
           ],
           "sequential": [
            [
             0,
             "#0d0887"
            ],
            [
             0.1111111111111111,
             "#46039f"
            ],
            [
             0.2222222222222222,
             "#7201a8"
            ],
            [
             0.3333333333333333,
             "#9c179e"
            ],
            [
             0.4444444444444444,
             "#bd3786"
            ],
            [
             0.5555555555555556,
             "#d8576b"
            ],
            [
             0.6666666666666666,
             "#ed7953"
            ],
            [
             0.7777777777777778,
             "#fb9f3a"
            ],
            [
             0.8888888888888888,
             "#fdca26"
            ],
            [
             1,
             "#f0f921"
            ]
           ],
           "sequentialminus": [
            [
             0,
             "#0d0887"
            ],
            [
             0.1111111111111111,
             "#46039f"
            ],
            [
             0.2222222222222222,
             "#7201a8"
            ],
            [
             0.3333333333333333,
             "#9c179e"
            ],
            [
             0.4444444444444444,
             "#bd3786"
            ],
            [
             0.5555555555555556,
             "#d8576b"
            ],
            [
             0.6666666666666666,
             "#ed7953"
            ],
            [
             0.7777777777777778,
             "#fb9f3a"
            ],
            [
             0.8888888888888888,
             "#fdca26"
            ],
            [
             1,
             "#f0f921"
            ]
           ]
          },
          "colorway": [
           "#636efa",
           "#EF553B",
           "#00cc96",
           "#ab63fa",
           "#FFA15A",
           "#19d3f3",
           "#FF6692",
           "#B6E880",
           "#FF97FF",
           "#FECB52"
          ],
          "font": {
           "color": "#2a3f5f"
          },
          "geo": {
           "bgcolor": "white",
           "lakecolor": "white",
           "landcolor": "#E5ECF6",
           "showlakes": true,
           "showland": true,
           "subunitcolor": "white"
          },
          "hoverlabel": {
           "align": "left"
          },
          "hovermode": "closest",
          "mapbox": {
           "style": "light"
          },
          "paper_bgcolor": "white",
          "plot_bgcolor": "#E5ECF6",
          "polar": {
           "angularaxis": {
            "gridcolor": "white",
            "linecolor": "white",
            "ticks": ""
           },
           "bgcolor": "#E5ECF6",
           "radialaxis": {
            "gridcolor": "white",
            "linecolor": "white",
            "ticks": ""
           }
          },
          "scene": {
           "xaxis": {
            "backgroundcolor": "#E5ECF6",
            "gridcolor": "white",
            "gridwidth": 2,
            "linecolor": "white",
            "showbackground": true,
            "ticks": "",
            "zerolinecolor": "white"
           },
           "yaxis": {
            "backgroundcolor": "#E5ECF6",
            "gridcolor": "white",
            "gridwidth": 2,
            "linecolor": "white",
            "showbackground": true,
            "ticks": "",
            "zerolinecolor": "white"
           },
           "zaxis": {
            "backgroundcolor": "#E5ECF6",
            "gridcolor": "white",
            "gridwidth": 2,
            "linecolor": "white",
            "showbackground": true,
            "ticks": "",
            "zerolinecolor": "white"
           }
          },
          "shapedefaults": {
           "line": {
            "color": "#2a3f5f"
           }
          },
          "ternary": {
           "aaxis": {
            "gridcolor": "white",
            "linecolor": "white",
            "ticks": ""
           },
           "baxis": {
            "gridcolor": "white",
            "linecolor": "white",
            "ticks": ""
           },
           "bgcolor": "#E5ECF6",
           "caxis": {
            "gridcolor": "white",
            "linecolor": "white",
            "ticks": ""
           }
          },
          "title": {
           "x": 0.05
          },
          "xaxis": {
           "automargin": true,
           "gridcolor": "white",
           "linecolor": "white",
           "ticks": "",
           "title": {
            "standoff": 15
           },
           "zerolinecolor": "white",
           "zerolinewidth": 2
          },
          "yaxis": {
           "automargin": true,
           "gridcolor": "white",
           "linecolor": "white",
           "ticks": "",
           "title": {
            "standoff": 15
           },
           "zerolinecolor": "white",
           "zerolinewidth": 2
          }
         }
        },
        "title": {
         "text": "Type 1 error rates as function of sample size, control rate and relative effect"
        },
        "width": 900,
        "xaxis": {
         "anchor": "y",
         "autorange": true,
         "domain": [
          0,
          0.18000000000000002
         ],
         "range": [
          43.21069348861829,
          5456.789306511382
         ],
         "title": {
          "text": ""
         },
         "type": "linear"
        },
        "xaxis10": {
         "anchor": "y10",
         "autorange": true,
         "domain": [
          0.8,
          0.9800000000000001
         ],
         "matches": "x",
         "range": [
          43.21069348861829,
          5456.789306511382
         ],
         "showticklabels": false,
         "title": {
          "text": ""
         },
         "type": "linear"
        },
        "xaxis11": {
         "anchor": "y11",
         "autorange": true,
         "domain": [
          0,
          0.18000000000000002
         ],
         "matches": "x",
         "range": [
          43.21069348861829,
          5456.789306511382
         ],
         "showticklabels": false,
         "title": {
          "text": ""
         },
         "type": "linear"
        },
        "xaxis12": {
         "anchor": "y12",
         "autorange": true,
         "domain": [
          0.2,
          0.38
         ],
         "matches": "x",
         "range": [
          43.21069348861829,
          5456.789306511382
         ],
         "showticklabels": false,
         "title": {
          "text": ""
         },
         "type": "linear"
        },
        "xaxis13": {
         "anchor": "y13",
         "autorange": true,
         "domain": [
          0.4,
          0.5800000000000001
         ],
         "matches": "x",
         "range": [
          43.21069348861829,
          5456.789306511382
         ],
         "showticklabels": false,
         "title": {
          "text": ""
         },
         "type": "linear"
        },
        "xaxis14": {
         "anchor": "y14",
         "autorange": true,
         "domain": [
          0.6000000000000001,
          0.7800000000000001
         ],
         "matches": "x",
         "range": [
          43.21069348861829,
          5456.789306511382
         ],
         "showticklabels": false,
         "title": {
          "text": ""
         },
         "type": "linear"
        },
        "xaxis15": {
         "anchor": "y15",
         "autorange": true,
         "domain": [
          0.8,
          0.9800000000000001
         ],
         "matches": "x",
         "range": [
          43.21069348861829,
          5456.789306511382
         ],
         "showticklabels": false,
         "title": {
          "text": ""
         },
         "type": "linear"
        },
        "xaxis16": {
         "anchor": "y16",
         "autorange": true,
         "domain": [
          0,
          0.18000000000000002
         ],
         "matches": "x",
         "range": [
          43.21069348861829,
          5456.789306511382
         ],
         "showticklabels": false,
         "title": {
          "text": ""
         },
         "type": "linear"
        },
        "xaxis17": {
         "anchor": "y17",
         "autorange": true,
         "domain": [
          0.2,
          0.38
         ],
         "matches": "x",
         "range": [
          43.21069348861829,
          5456.789306511382
         ],
         "showticklabels": false,
         "title": {
          "text": ""
         },
         "type": "linear"
        },
        "xaxis18": {
         "anchor": "y18",
         "autorange": true,
         "domain": [
          0.4,
          0.5800000000000001
         ],
         "matches": "x",
         "range": [
          43.21069348861829,
          5456.789306511382
         ],
         "showticklabels": false,
         "title": {
          "text": ""
         },
         "type": "linear"
        },
        "xaxis19": {
         "anchor": "y19",
         "autorange": true,
         "domain": [
          0.6000000000000001,
          0.7800000000000001
         ],
         "matches": "x",
         "range": [
          43.21069348861829,
          5456.789306511382
         ],
         "showticklabels": false,
         "title": {
          "text": ""
         },
         "type": "linear"
        },
        "xaxis2": {
         "anchor": "y2",
         "autorange": true,
         "domain": [
          0.2,
          0.38
         ],
         "matches": "x",
         "range": [
          43.21069348861829,
          5456.789306511382
         ],
         "title": {
          "text": ""
         },
         "type": "linear"
        },
        "xaxis20": {
         "anchor": "y20",
         "autorange": true,
         "domain": [
          0.8,
          0.9800000000000001
         ],
         "matches": "x",
         "range": [
          43.21069348861829,
          5456.789306511382
         ],
         "showticklabels": false,
         "title": {
          "text": ""
         },
         "type": "linear"
        },
        "xaxis3": {
         "anchor": "y3",
         "autorange": true,
         "domain": [
          0.4,
          0.5800000000000001
         ],
         "matches": "x",
         "range": [
          43.21069348861829,
          5456.789306511382
         ],
         "title": {
          "text": ""
         },
         "type": "linear"
        },
        "xaxis4": {
         "anchor": "y4",
         "autorange": true,
         "domain": [
          0.6000000000000001,
          0.7800000000000001
         ],
         "matches": "x",
         "range": [
          43.21069348861829,
          5456.789306511382
         ],
         "title": {
          "text": ""
         },
         "type": "linear"
        },
        "xaxis5": {
         "anchor": "y5",
         "autorange": true,
         "domain": [
          0.8,
          0.9800000000000001
         ],
         "matches": "x",
         "range": [
          43.21069348861829,
          5456.789306511382
         ],
         "title": {
          "text": ""
         },
         "type": "linear"
        },
        "xaxis6": {
         "anchor": "y6",
         "autorange": true,
         "domain": [
          0,
          0.18000000000000002
         ],
         "matches": "x",
         "range": [
          43.21069348861829,
          5456.789306511382
         ],
         "showticklabels": false,
         "title": {
          "text": ""
         },
         "type": "linear"
        },
        "xaxis7": {
         "anchor": "y7",
         "autorange": true,
         "domain": [
          0.2,
          0.38
         ],
         "matches": "x",
         "range": [
          43.21069348861829,
          5456.789306511382
         ],
         "showticklabels": false,
         "title": {
          "text": ""
         },
         "type": "linear"
        },
        "xaxis8": {
         "anchor": "y8",
         "autorange": true,
         "domain": [
          0.4,
          0.5800000000000001
         ],
         "matches": "x",
         "range": [
          43.21069348861829,
          5456.789306511382
         ],
         "showticklabels": false,
         "title": {
          "text": ""
         },
         "type": "linear"
        },
        "xaxis9": {
         "anchor": "y9",
         "autorange": true,
         "domain": [
          0.6000000000000001,
          0.7800000000000001
         ],
         "matches": "x",
         "range": [
          43.21069348861829,
          5456.789306511382
         ],
         "showticklabels": false,
         "title": {
          "text": ""
         },
         "type": "linear"
        },
        "yaxis": {
         "anchor": "x",
         "autorange": true,
         "domain": [
          0,
          0.2275
         ],
         "range": [
          -0.004757489323233263,
          0.20575748932323326
         ],
         "title": {
          "text": ""
         },
         "type": "linear"
        },
        "yaxis10": {
         "anchor": "x10",
         "autorange": true,
         "domain": [
          0.2575,
          0.485
         ],
         "matches": "y",
         "range": [
          -0.004757489323233263,
          0.20575748932323326
         ],
         "showticklabels": false,
         "title": {
          "text": ""
         },
         "type": "linear"
        },
        "yaxis11": {
         "anchor": "x11",
         "autorange": true,
         "domain": [
          0.515,
          0.7425
         ],
         "matches": "y",
         "range": [
          -0.004757489323233263,
          0.20575748932323326
         ],
         "title": {
          "text": ""
         },
         "type": "linear"
        },
        "yaxis12": {
         "anchor": "x12",
         "autorange": true,
         "domain": [
          0.515,
          0.7425
         ],
         "matches": "y",
         "range": [
          -0.004757489323233263,
          0.20575748932323326
         ],
         "showticklabels": false,
         "title": {
          "text": ""
         },
         "type": "linear"
        },
        "yaxis13": {
         "anchor": "x13",
         "autorange": true,
         "domain": [
          0.515,
          0.7425
         ],
         "matches": "y",
         "range": [
          -0.004757489323233263,
          0.20575748932323326
         ],
         "showticklabels": false,
         "title": {
          "text": ""
         },
         "type": "linear"
        },
        "yaxis14": {
         "anchor": "x14",
         "autorange": true,
         "domain": [
          0.515,
          0.7425
         ],
         "matches": "y",
         "range": [
          -0.004757489323233263,
          0.20575748932323326
         ],
         "showticklabels": false,
         "title": {
          "text": ""
         },
         "type": "linear"
        },
        "yaxis15": {
         "anchor": "x15",
         "autorange": true,
         "domain": [
          0.515,
          0.7425
         ],
         "matches": "y",
         "range": [
          -0.004757489323233263,
          0.20575748932323326
         ],
         "showticklabels": false,
         "title": {
          "text": ""
         },
         "type": "linear"
        },
        "yaxis16": {
         "anchor": "x16",
         "autorange": true,
         "domain": [
          0.7725,
          1
         ],
         "matches": "y",
         "range": [
          -0.004757489323233263,
          0.20575748932323326
         ],
         "title": {
          "text": ""
         },
         "type": "linear"
        },
        "yaxis17": {
         "anchor": "x17",
         "autorange": true,
         "domain": [
          0.7725,
          1
         ],
         "matches": "y",
         "range": [
          -0.004757489323233263,
          0.20575748932323326
         ],
         "showticklabels": false,
         "title": {
          "text": ""
         },
         "type": "linear"
        },
        "yaxis18": {
         "anchor": "x18",
         "autorange": true,
         "domain": [
          0.7725,
          1
         ],
         "matches": "y",
         "range": [
          -0.004757489323233263,
          0.20575748932323326
         ],
         "showticklabels": false,
         "title": {
          "text": ""
         },
         "type": "linear"
        },
        "yaxis19": {
         "anchor": "x19",
         "autorange": true,
         "domain": [
          0.7725,
          1
         ],
         "matches": "y",
         "range": [
          -0.004757489323233263,
          0.20575748932323326
         ],
         "showticklabels": false,
         "title": {
          "text": ""
         },
         "type": "linear"
        },
        "yaxis2": {
         "anchor": "x2",
         "autorange": true,
         "domain": [
          0,
          0.2275
         ],
         "matches": "y",
         "range": [
          -0.004757489323233263,
          0.20575748932323326
         ],
         "showticklabels": false,
         "title": {
          "text": ""
         },
         "type": "linear"
        },
        "yaxis20": {
         "anchor": "x20",
         "autorange": true,
         "domain": [
          0.7725,
          1
         ],
         "matches": "y",
         "range": [
          -0.004757489323233263,
          0.20575748932323326
         ],
         "showticklabels": false,
         "title": {
          "text": ""
         },
         "type": "linear"
        },
        "yaxis3": {
         "anchor": "x3",
         "autorange": true,
         "domain": [
          0,
          0.2275
         ],
         "matches": "y",
         "range": [
          -0.004757489323233263,
          0.20575748932323326
         ],
         "showticklabels": false,
         "title": {
          "text": ""
         },
         "type": "linear"
        },
        "yaxis4": {
         "anchor": "x4",
         "autorange": true,
         "domain": [
          0,
          0.2275
         ],
         "matches": "y",
         "range": [
          -0.004757489323233263,
          0.20575748932323326
         ],
         "showticklabels": false,
         "title": {
          "text": ""
         },
         "type": "linear"
        },
        "yaxis5": {
         "anchor": "x5",
         "autorange": true,
         "domain": [
          0,
          0.2275
         ],
         "matches": "y",
         "range": [
          -0.004757489323233263,
          0.20575748932323326
         ],
         "showticklabels": false,
         "title": {
          "text": ""
         },
         "type": "linear"
        },
        "yaxis6": {
         "anchor": "x6",
         "autorange": true,
         "domain": [
          0.2575,
          0.485
         ],
         "matches": "y",
         "range": [
          -0.004757489323233263,
          0.20575748932323326
         ],
         "title": {
          "text": ""
         },
         "type": "linear"
        },
        "yaxis7": {
         "anchor": "x7",
         "autorange": true,
         "domain": [
          0.2575,
          0.485
         ],
         "matches": "y",
         "range": [
          -0.004757489323233263,
          0.20575748932323326
         ],
         "showticklabels": false,
         "title": {
          "text": ""
         },
         "type": "linear"
        },
        "yaxis8": {
         "anchor": "x8",
         "autorange": true,
         "domain": [
          0.2575,
          0.485
         ],
         "matches": "y",
         "range": [
          -0.004757489323233263,
          0.20575748932323326
         ],
         "showticklabels": false,
         "title": {
          "text": ""
         },
         "type": "linear"
        },
        "yaxis9": {
         "anchor": "x9",
         "autorange": true,
         "domain": [
          0.2575,
          0.485
         ],
         "matches": "y",
         "range": [
          -0.004757489323233263,
          0.20575748932323326
         ],
         "showticklabels": false,
         "title": {
          "text": ""
         },
         "type": "linear"
        }
       }
      },
      "image/png": "[encoded data removed]",
      "text/html": [
       "<div>                            <div id=\"97f9ec13-a80c-44b4-9cfa-136c452571e2\" class=\"plotly-graph-div\" style=\"height:1000px; width:900px;\"></div>            <script type=\"text/javascript\">                require([\"plotly\"], function(Plotly) {                    window.PLOTLYENV=window.PLOTLYENV || {};                                    if (document.getElementById(\"97f9ec13-a80c-44b4-9cfa-136c452571e2\")) {                    Plotly.newPlot(                        \"97f9ec13-a80c-44b4-9cfa-136c452571e2\",                        [{\"hovertemplate\":\"variable=type_1_error_bootstrap\\u003cbr\\u003econtrol_rate=0.005\\u003cbr\\u003eeffect=0.1\\u003cbr\\u003esample_size=%{x}\\u003cbr\\u003evalue=%{y}\\u003cextra\\u003e\\u003c\\u002fextra\\u003e\",\"legendgroup\":\"type_1_error_bootstrap\",\"marker\":{\"color\":\"#636efa\",\"symbol\":\"circle\"},\"mode\":\"markers\",\"name\":\"type_1_error_bootstrap\",\"orientation\":\"v\",\"showlegend\":true,\"x\":[500,1000,2000,5000],\"xaxis\":\"x16\",\"y\":[0.044,0.023,0.036,0.036],\"yaxis\":\"y16\",\"type\":\"scatter\"},{\"hovertemplate\":\"variable=type_1_error_bootstrap\\u003cbr\\u003econtrol_rate=0.005\\u003cbr\\u003eeffect=0.25\\u003cbr\\u003esample_size=%{x}\\u003cbr\\u003evalue=%{y}\\u003cextra\\u003e\\u003c\\u002fextra\\u003e\",\"legendgroup\":\"type_1_error_bootstrap\",\"marker\":{\"color\":\"#636efa\",\"symbol\":\"circle\"},\"mode\":\"markers\",\"name\":\"type_1_error_bootstrap\",\"orientation\":\"v\",\"showlegend\":false,\"x\":[500,1000,2000,5000],\"xaxis\":\"x17\",\"y\":[0.065,0.025,0.03,0.051],\"yaxis\":\"y17\",\"type\":\"scatter\"},{\"hovertemplate\":\"variable=type_1_error_bootstrap\\u003cbr\\u003econtrol_rate=0.005\\u003cbr\\u003eeffect=0.5\\u003cbr\\u003esample_size=%{x}\\u003cbr\\u003evalue=%{y}\\u003cextra\\u003e\\u003c\\u002fextra\\u003e\",\"legendgroup\":\"type_1_error_bootstrap\",\"marker\":{\"color\":\"#636efa\",\"symbol\":\"circle\"},\"mode\":\"markers\",\"name\":\"type_1_error_bootstrap\",\"orientation\":\"v\",\"showlegend\":false,\"x\":[500,1000,2000,5000],\"xaxis\":\"x18\",\"y\":[0.066,0.01,0.026,0.04],\"yaxis\":\"y18\",\"type\":\"scatter\"},{\"hovertemplate\":\"variable=type_1_error_bootstrap\\u003cbr\\u003econtrol_rate=0.005\\u003cbr\\u003eeffect=1.0\\u003cbr\\u003esample_size=%{x}\\u003cbr\\u003evalue=%{y}\\u003cextra\\u003e\\u003c\\u002fextra\\u003e\",\"legendgroup\":\"type_1_error_bootstrap\",\"marker\":{\"color\":\"#636efa\",\"symbol\":\"circle\"},\"mode\":\"markers\",\"name\":\"type_1_error_bootstrap\",\"orientation\":\"v\",\"showlegend\":false,\"x\":[500,1000,2000,5000],\"xaxis\":\"x19\",\"y\":[0.079,0.017,0.033,0.045],\"yaxis\":\"y19\",\"type\":\"scatter\"},{\"hovertemplate\":\"variable=type_1_error_bootstrap\\u003cbr\\u003econtrol_rate=0.005\\u003cbr\\u003eeffect=2.0\\u003cbr\\u003esample_size=%{x}\\u003cbr\\u003evalue=%{y}\\u003cextra\\u003e\\u003c\\u002fextra\\u003e\",\"legendgroup\":\"type_1_error_bootstrap\",\"marker\":{\"color\":\"#636efa\",\"symbol\":\"circle\"},\"mode\":\"markers\",\"name\":\"type_1_error_bootstrap\",\"orientation\":\"v\",\"showlegend\":false,\"x\":[500,1000,2000,5000],\"xaxis\":\"x20\",\"y\":[0.071,0.015,0.044,0.045],\"yaxis\":\"y20\",\"type\":\"scatter\"},{\"hovertemplate\":\"variable=type_1_error_bootstrap\\u003cbr\\u003econtrol_rate=0.01\\u003cbr\\u003eeffect=0.1\\u003cbr\\u003esample_size=%{x}\\u003cbr\\u003evalue=%{y}\\u003cextra\\u003e\\u003c\\u002fextra\\u003e\",\"legendgroup\":\"type_1_error_bootstrap\",\"marker\":{\"color\":\"#636efa\",\"symbol\":\"circle\"},\"mode\":\"markers\",\"name\":\"type_1_error_bootstrap\",\"orientation\":\"v\",\"showlegend\":false,\"x\":[500,1000,2000,5000],\"xaxis\":\"x11\",\"y\":[0.015,0.03,0.042,0.048],\"yaxis\":\"y11\",\"type\":\"scatter\"},{\"hovertemplate\":\"variable=type_1_error_bootstrap\\u003cbr\\u003econtrol_rate=0.01\\u003cbr\\u003eeffect=0.25\\u003cbr\\u003esample_size=%{x}\\u003cbr\\u003evalue=%{y}\\u003cextra\\u003e\\u003c\\u002fextra\\u003e\",\"legendgroup\":\"type_1_error_bootstrap\",\"marker\":{\"color\":\"#636efa\",\"symbol\":\"circle\"},\"mode\":\"markers\",\"name\":\"type_1_error_bootstrap\",\"orientation\":\"v\",\"showlegend\":false,\"x\":[500,1000,2000,5000],\"xaxis\":\"x12\",\"y\":[0.027,0.033,0.037,0.056],\"yaxis\":\"y12\",\"type\":\"scatter\"},{\"hovertemplate\":\"variable=type_1_error_bootstrap\\u003cbr\\u003econtrol_rate=0.01\\u003cbr\\u003eeffect=0.5\\u003cbr\\u003esample_size=%{x}\\u003cbr\\u003evalue=%{y}\\u003cextra\\u003e\\u003c\\u002fextra\\u003e\",\"legendgroup\":\"type_1_error_bootstrap\",\"marker\":{\"color\":\"#636efa\",\"symbol\":\"circle\"},\"mode\":\"markers\",\"name\":\"type_1_error_bootstrap\",\"orientation\":\"v\",\"showlegend\":false,\"x\":[500,1000,2000,5000],\"xaxis\":\"x13\",\"y\":[0.021,0.03,0.05,0.04],\"yaxis\":\"y13\",\"type\":\"scatter\"},{\"hovertemplate\":\"variable=type_1_error_bootstrap\\u003cbr\\u003econtrol_rate=0.01\\u003cbr\\u003eeffect=1.0\\u003cbr\\u003esample_size=%{x}\\u003cbr\\u003evalue=%{y}\\u003cextra\\u003e\\u003c\\u002fextra\\u003e\",\"legendgroup\":\"type_1_error_bootstrap\",\"marker\":{\"color\":\"#636efa\",\"symbol\":\"circle\"},\"mode\":\"markers\",\"name\":\"type_1_error_bootstrap\",\"orientation\":\"v\",\"showlegend\":false,\"x\":[500,1000,2000,5000],\"xaxis\":\"x14\",\"y\":[0.018,0.035,0.039,0.056],\"yaxis\":\"y14\",\"type\":\"scatter\"},{\"hovertemplate\":\"variable=type_1_error_bootstrap\\u003cbr\\u003econtrol_rate=0.01\\u003cbr\\u003eeffect=2.0\\u003cbr\\u003esample_size=%{x}\\u003cbr\\u003evalue=%{y}\\u003cextra\\u003e\\u003c\\u002fextra\\u003e\",\"legendgroup\":\"type_1_error_bootstrap\",\"marker\":{\"color\":\"#636efa\",\"symbol\":\"circle\"},\"mode\":\"markers\",\"name\":\"type_1_error_bootstrap\",\"orientation\":\"v\",\"showlegend\":false,\"x\":[500,1000,2000,5000],\"xaxis\":\"x15\",\"y\":[0.031,0.035,0.052,0.041],\"yaxis\":\"y15\",\"type\":\"scatter\"},{\"hovertemplate\":\"variable=type_1_error_bootstrap\\u003cbr\\u003econtrol_rate=0.02\\u003cbr\\u003eeffect=0.1\\u003cbr\\u003esample_size=%{x}\\u003cbr\\u003evalue=%{y}\\u003cextra\\u003e\\u003c\\u002fextra\\u003e\",\"legendgroup\":\"type_1_error_bootstrap\",\"marker\":{\"color\":\"#636efa\",\"symbol\":\"circle\"},\"mode\":\"markers\",\"name\":\"type_1_error_bootstrap\",\"orientation\":\"v\",\"showlegend\":false,\"x\":[500,1000,2000,5000],\"xaxis\":\"x6\",\"y\":[0.027,0.035,0.044,0.05],\"yaxis\":\"y6\",\"type\":\"scatter\"},{\"hovertemplate\":\"variable=type_1_error_bootstrap\\u003cbr\\u003econtrol_rate=0.02\\u003cbr\\u003eeffect=0.25\\u003cbr\\u003esample_size=%{x}\\u003cbr\\u003evalue=%{y}\\u003cextra\\u003e\\u003c\\u002fextra\\u003e\",\"legendgroup\":\"type_1_error_bootstrap\",\"marker\":{\"color\":\"#636efa\",\"symbol\":\"circle\"},\"mode\":\"markers\",\"name\":\"type_1_error_bootstrap\",\"orientation\":\"v\",\"showlegend\":false,\"x\":[500,1000,2000,5000],\"xaxis\":\"x7\",\"y\":[0.033,0.029,0.036,0.061],\"yaxis\":\"y7\",\"type\":\"scatter\"},{\"hovertemplate\":\"variable=type_1_error_bootstrap\\u003cbr\\u003econtrol_rate=0.02\\u003cbr\\u003eeffect=0.5\\u003cbr\\u003esample_size=%{x}\\u003cbr\\u003evalue=%{y}\\u003cextra\\u003e\\u003c\\u002fextra\\u003e\",\"legendgroup\":\"type_1_error_bootstrap\",\"marker\":{\"color\":\"#636efa\",\"symbol\":\"circle\"},\"mode\":\"markers\",\"name\":\"type_1_error_bootstrap\",\"orientation\":\"v\",\"showlegend\":false,\"x\":[500,1000,2000,5000],\"xaxis\":\"x8\",\"y\":[0.043,0.04,0.041,0.056],\"yaxis\":\"y8\",\"type\":\"scatter\"},{\"hovertemplate\":\"variable=type_1_error_bootstrap\\u003cbr\\u003econtrol_rate=0.02\\u003cbr\\u003eeffect=1.0\\u003cbr\\u003esample_size=%{x}\\u003cbr\\u003evalue=%{y}\\u003cextra\\u003e\\u003c\\u002fextra\\u003e\",\"legendgroup\":\"type_1_error_bootstrap\",\"marker\":{\"color\":\"#636efa\",\"symbol\":\"circle\"},\"mode\":\"markers\",\"name\":\"type_1_error_bootstrap\",\"orientation\":\"v\",\"showlegend\":false,\"x\":[500,1000,2000,5000],\"xaxis\":\"x9\",\"y\":[0.035,0.032,0.036,0.043],\"yaxis\":\"y9\",\"type\":\"scatter\"},{\"hovertemplate\":\"variable=type_1_error_bootstrap\\u003cbr\\u003econtrol_rate=0.02\\u003cbr\\u003eeffect=2.0\\u003cbr\\u003esample_size=%{x}\\u003cbr\\u003evalue=%{y}\\u003cextra\\u003e\\u003c\\u002fextra\\u003e\",\"legendgroup\":\"type_1_error_bootstrap\",\"marker\":{\"color\":\"#636efa\",\"symbol\":\"circle\"},\"mode\":\"markers\",\"name\":\"type_1_error_bootstrap\",\"orientation\":\"v\",\"showlegend\":false,\"x\":[500,1000,2000,5000],\"xaxis\":\"x10\",\"y\":[0.052,0.055,0.032,0.053],\"yaxis\":\"y10\",\"type\":\"scatter\"},{\"hovertemplate\":\"variable=type_1_error_bootstrap\\u003cbr\\u003econtrol_rate=0.05\\u003cbr\\u003eeffect=0.1\\u003cbr\\u003esample_size=%{x}\\u003cbr\\u003evalue=%{y}\\u003cextra\\u003e\\u003c\\u002fextra\\u003e\",\"legendgroup\":\"type_1_error_bootstrap\",\"marker\":{\"color\":\"#636efa\",\"symbol\":\"circle\"},\"mode\":\"markers\",\"name\":\"type_1_error_bootstrap\",\"orientation\":\"v\",\"showlegend\":false,\"x\":[500,1000,2000,5000],\"xaxis\":\"x\",\"y\":[0.04,0.058,0.053,0.05],\"yaxis\":\"y\",\"type\":\"scatter\"},{\"hovertemplate\":\"variable=type_1_error_bootstrap\\u003cbr\\u003econtrol_rate=0.05\\u003cbr\\u003eeffect=0.25\\u003cbr\\u003esample_size=%{x}\\u003cbr\\u003evalue=%{y}\\u003cextra\\u003e\\u003c\\u002fextra\\u003e\",\"legendgroup\":\"type_1_error_bootstrap\",\"marker\":{\"color\":\"#636efa\",\"symbol\":\"circle\"},\"mode\":\"markers\",\"name\":\"type_1_error_bootstrap\",\"orientation\":\"v\",\"showlegend\":false,\"x\":[500,1000,2000,5000],\"xaxis\":\"x2\",\"y\":[0.052,0.051,0.051,0.058],\"yaxis\":\"y2\",\"type\":\"scatter\"},{\"hovertemplate\":\"variable=type_1_error_bootstrap\\u003cbr\\u003econtrol_rate=0.05\\u003cbr\\u003eeffect=0.5\\u003cbr\\u003esample_size=%{x}\\u003cbr\\u003evalue=%{y}\\u003cextra\\u003e\\u003c\\u002fextra\\u003e\",\"legendgroup\":\"type_1_error_bootstrap\",\"marker\":{\"color\":\"#636efa\",\"symbol\":\"circle\"},\"mode\":\"markers\",\"name\":\"type_1_error_bootstrap\",\"orientation\":\"v\",\"showlegend\":false,\"x\":[500,1000,2000,5000],\"xaxis\":\"x3\",\"y\":[0.049,0.071,0.059,0.043],\"yaxis\":\"y3\",\"type\":\"scatter\"},{\"hovertemplate\":\"variable=type_1_error_bootstrap\\u003cbr\\u003econtrol_rate=0.05\\u003cbr\\u003eeffect=1.0\\u003cbr\\u003esample_size=%{x}\\u003cbr\\u003evalue=%{y}\\u003cextra\\u003e\\u003c\\u002fextra\\u003e\",\"legendgroup\":\"type_1_error_bootstrap\",\"marker\":{\"color\":\"#636efa\",\"symbol\":\"circle\"},\"mode\":\"markers\",\"name\":\"type_1_error_bootstrap\",\"orientation\":\"v\",\"showlegend\":false,\"x\":[500,1000,2000,5000],\"xaxis\":\"x4\",\"y\":[0.045,0.046,0.046,0.055],\"yaxis\":\"y4\",\"type\":\"scatter\"},{\"hovertemplate\":\"variable=type_1_error_bootstrap\\u003cbr\\u003econtrol_rate=0.05\\u003cbr\\u003eeffect=2.0\\u003cbr\\u003esample_size=%{x}\\u003cbr\\u003evalue=%{y}\\u003cextra\\u003e\\u003c\\u002fextra\\u003e\",\"legendgroup\":\"type_1_error_bootstrap\",\"marker\":{\"color\":\"#636efa\",\"symbol\":\"circle\"},\"mode\":\"markers\",\"name\":\"type_1_error_bootstrap\",\"orientation\":\"v\",\"showlegend\":false,\"x\":[500,1000,2000,5000],\"xaxis\":\"x5\",\"y\":[0.044,0.052,0.037,0.052],\"yaxis\":\"y5\",\"type\":\"scatter\"},{\"hovertemplate\":\"variable=type_1_error_naive\\u003cbr\\u003econtrol_rate=0.005\\u003cbr\\u003eeffect=0.1\\u003cbr\\u003esample_size=%{x}\\u003cbr\\u003evalue=%{y}\\u003cextra\\u003e\\u003c\\u002fextra\\u003e\",\"legendgroup\":\"type_1_error_naive\",\"marker\":{\"color\":\"#EF553B\",\"symbol\":\"circle\"},\"mode\":\"markers\",\"name\":\"type_1_error_naive\",\"orientation\":\"v\",\"showlegend\":true,\"x\":[500,1000,2000,5000],\"xaxis\":\"x16\",\"y\":[0.02,0.047,0.048,0.052],\"yaxis\":\"y16\",\"type\":\"scatter\"},{\"hovertemplate\":\"variable=type_1_error_naive\\u003cbr\\u003econtrol_rate=0.005\\u003cbr\\u003eeffect=0.25\\u003cbr\\u003esample_size=%{x}\\u003cbr\\u003evalue=%{y}\\u003cextra\\u003e\\u003c\\u002fextra\\u003e\",\"legendgroup\":\"type_1_error_naive\",\"marker\":{\"color\":\"#EF553B\",\"symbol\":\"circle\"},\"mode\":\"markers\",\"name\":\"type_1_error_naive\",\"orientation\":\"v\",\"showlegend\":false,\"x\":[500,1000,2000,5000],\"xaxis\":\"x17\",\"y\":[0.026,0.073,0.062,0.07],\"yaxis\":\"y17\",\"type\":\"scatter\"},{\"hovertemplate\":\"variable=type_1_error_naive\\u003cbr\\u003econtrol_rate=0.005\\u003cbr\\u003eeffect=0.5\\u003cbr\\u003esample_size=%{x}\\u003cbr\\u003evalue=%{y}\\u003cextra\\u003e\\u003c\\u002fextra\\u003e\",\"legendgroup\":\"type_1_error_naive\",\"marker\":{\"color\":\"#EF553B\",\"symbol\":\"circle\"},\"mode\":\"markers\",\"name\":\"type_1_error_naive\",\"orientation\":\"v\",\"showlegend\":false,\"x\":[500,1000,2000,5000],\"xaxis\":\"x18\",\"y\":[0.034,0.073,0.094,0.093],\"yaxis\":\"y18\",\"type\":\"scatter\"},{\"hovertemplate\":\"variable=type_1_error_naive\\u003cbr\\u003econtrol_rate=0.005\\u003cbr\\u003eeffect=1.0\\u003cbr\\u003esample_size=%{x}\\u003cbr\\u003evalue=%{y}\\u003cextra\\u003e\\u003c\\u002fextra\\u003e\",\"legendgroup\":\"type_1_error_naive\",\"marker\":{\"color\":\"#EF553B\",\"symbol\":\"circle\"},\"mode\":\"markers\",\"name\":\"type_1_error_naive\",\"orientation\":\"v\",\"showlegend\":false,\"x\":[500,1000,2000,5000],\"xaxis\":\"x19\",\"y\":[0.056,0.109,0.109,0.132],\"yaxis\":\"y19\",\"type\":\"scatter\"},{\"hovertemplate\":\"variable=type_1_error_naive\\u003cbr\\u003econtrol_rate=0.005\\u003cbr\\u003eeffect=2.0\\u003cbr\\u003esample_size=%{x}\\u003cbr\\u003evalue=%{y}\\u003cextra\\u003e\\u003c\\u002fextra\\u003e\",\"legendgroup\":\"type_1_error_naive\",\"marker\":{\"color\":\"#EF553B\",\"symbol\":\"circle\"},\"mode\":\"markers\",\"name\":\"type_1_error_naive\",\"orientation\":\"v\",\"showlegend\":false,\"x\":[500,1000,2000,5000],\"xaxis\":\"x20\",\"y\":[0.11,0.16,0.183,0.166],\"yaxis\":\"y20\",\"type\":\"scatter\"},{\"hovertemplate\":\"variable=type_1_error_naive\\u003cbr\\u003econtrol_rate=0.01\\u003cbr\\u003eeffect=0.1\\u003cbr\\u003esample_size=%{x}\\u003cbr\\u003evalue=%{y}\\u003cextra\\u003e\\u003c\\u002fextra\\u003e\",\"legendgroup\":\"type_1_error_naive\",\"marker\":{\"color\":\"#EF553B\",\"symbol\":\"circle\"},\"mode\":\"markers\",\"name\":\"type_1_error_naive\",\"orientation\":\"v\",\"showlegend\":false,\"x\":[500,1000,2000,5000],\"xaxis\":\"x11\",\"y\":[0.046,0.059,0.057,0.051],\"yaxis\":\"y11\",\"type\":\"scatter\"},{\"hovertemplate\":\"variable=type_1_error_naive\\u003cbr\\u003econtrol_rate=0.01\\u003cbr\\u003eeffect=0.25\\u003cbr\\u003esample_size=%{x}\\u003cbr\\u003evalue=%{y}\\u003cextra\\u003e\\u003c\\u002fextra\\u003e\",\"legendgroup\":\"type_1_error_naive\",\"marker\":{\"color\":\"#EF553B\",\"symbol\":\"circle\"},\"mode\":\"markers\",\"name\":\"type_1_error_naive\",\"orientation\":\"v\",\"showlegend\":false,\"x\":[500,1000,2000,5000],\"xaxis\":\"x12\",\"y\":[0.064,0.061,0.061,0.083],\"yaxis\":\"y12\",\"type\":\"scatter\"},{\"hovertemplate\":\"variable=type_1_error_naive\\u003cbr\\u003econtrol_rate=0.01\\u003cbr\\u003eeffect=0.5\\u003cbr\\u003esample_size=%{x}\\u003cbr\\u003evalue=%{y}\\u003cextra\\u003e\\u003c\\u002fextra\\u003e\",\"legendgroup\":\"type_1_error_naive\",\"marker\":{\"color\":\"#EF553B\",\"symbol\":\"circle\"},\"mode\":\"markers\",\"name\":\"type_1_error_naive\",\"orientation\":\"v\",\"showlegend\":false,\"x\":[500,1000,2000,5000],\"xaxis\":\"x13\",\"y\":[0.1,0.1,0.094,0.085],\"yaxis\":\"y13\",\"type\":\"scatter\"},{\"hovertemplate\":\"variable=type_1_error_naive\\u003cbr\\u003econtrol_rate=0.01\\u003cbr\\u003eeffect=1.0\\u003cbr\\u003esample_size=%{x}\\u003cbr\\u003evalue=%{y}\\u003cextra\\u003e\\u003c\\u002fextra\\u003e\",\"legendgroup\":\"type_1_error_naive\",\"marker\":{\"color\":\"#EF553B\",\"symbol\":\"circle\"},\"mode\":\"markers\",\"name\":\"type_1_error_naive\",\"orientation\":\"v\",\"showlegend\":false,\"x\":[500,1000,2000,5000],\"xaxis\":\"x14\",\"y\":[0.113,0.116,0.11,0.141],\"yaxis\":\"y14\",\"type\":\"scatter\"},{\"hovertemplate\":\"variable=type_1_error_naive\\u003cbr\\u003econtrol_rate=0.01\\u003cbr\\u003eeffect=2.0\\u003cbr\\u003esample_size=%{x}\\u003cbr\\u003evalue=%{y}\\u003cextra\\u003e\\u003c\\u002fextra\\u003e\",\"legendgroup\":\"type_1_error_naive\",\"marker\":{\"color\":\"#EF553B\",\"symbol\":\"circle\"},\"mode\":\"markers\",\"name\":\"type_1_error_naive\",\"orientation\":\"v\",\"showlegend\":false,\"x\":[500,1000,2000,5000],\"xaxis\":\"x15\",\"y\":[0.176,0.166,0.181,0.164],\"yaxis\":\"y15\",\"type\":\"scatter\"},{\"hovertemplate\":\"variable=type_1_error_naive\\u003cbr\\u003econtrol_rate=0.02\\u003cbr\\u003eeffect=0.1\\u003cbr\\u003esample_size=%{x}\\u003cbr\\u003evalue=%{y}\\u003cextra\\u003e\\u003c\\u002fextra\\u003e\",\"legendgroup\":\"type_1_error_naive\",\"marker\":{\"color\":\"#EF553B\",\"symbol\":\"circle\"},\"mode\":\"markers\",\"name\":\"type_1_error_naive\",\"orientation\":\"v\",\"showlegend\":false,\"x\":[500,1000,2000,5000],\"xaxis\":\"x6\",\"y\":[0.052,0.056,0.052,0.055],\"yaxis\":\"y6\",\"type\":\"scatter\"},{\"hovertemplate\":\"variable=type_1_error_naive\\u003cbr\\u003econtrol_rate=0.02\\u003cbr\\u003eeffect=0.25\\u003cbr\\u003esample_size=%{x}\\u003cbr\\u003evalue=%{y}\\u003cextra\\u003e\\u003c\\u002fextra\\u003e\",\"legendgroup\":\"type_1_error_naive\",\"marker\":{\"color\":\"#EF553B\",\"symbol\":\"circle\"},\"mode\":\"markers\",\"name\":\"type_1_error_naive\",\"orientation\":\"v\",\"showlegend\":false,\"x\":[500,1000,2000,5000],\"xaxis\":\"x7\",\"y\":[0.083,0.059,0.057,0.086],\"yaxis\":\"y7\",\"type\":\"scatter\"},{\"hovertemplate\":\"variable=type_1_error_naive\\u003cbr\\u003econtrol_rate=0.02\\u003cbr\\u003eeffect=0.5\\u003cbr\\u003esample_size=%{x}\\u003cbr\\u003evalue=%{y}\\u003cextra\\u003e\\u003c\\u002fextra\\u003e\",\"legendgroup\":\"type_1_error_naive\",\"marker\":{\"color\":\"#EF553B\",\"symbol\":\"circle\"},\"mode\":\"markers\",\"name\":\"type_1_error_naive\",\"orientation\":\"v\",\"showlegend\":false,\"x\":[500,1000,2000,5000],\"xaxis\":\"x8\",\"y\":[0.099,0.093,0.081,0.107],\"yaxis\":\"y8\",\"type\":\"scatter\"},{\"hovertemplate\":\"variable=type_1_error_naive\\u003cbr\\u003econtrol_rate=0.02\\u003cbr\\u003eeffect=1.0\\u003cbr\\u003esample_size=%{x}\\u003cbr\\u003evalue=%{y}\\u003cextra\\u003e\\u003c\\u002fextra\\u003e\",\"legendgroup\":\"type_1_error_naive\",\"marker\":{\"color\":\"#EF553B\",\"symbol\":\"circle\"},\"mode\":\"markers\",\"name\":\"type_1_error_naive\",\"orientation\":\"v\",\"showlegend\":false,\"x\":[500,1000,2000,5000],\"xaxis\":\"x9\",\"y\":[0.129,0.111,0.126,0.129],\"yaxis\":\"y9\",\"type\":\"scatter\"},{\"hovertemplate\":\"variable=type_1_error_naive\\u003cbr\\u003econtrol_rate=0.02\\u003cbr\\u003eeffect=2.0\\u003cbr\\u003esample_size=%{x}\\u003cbr\\u003evalue=%{y}\\u003cextra\\u003e\\u003c\\u002fextra\\u003e\",\"legendgroup\":\"type_1_error_naive\",\"marker\":{\"color\":\"#EF553B\",\"symbol\":\"circle\"},\"mode\":\"markers\",\"name\":\"type_1_error_naive\",\"orientation\":\"v\",\"showlegend\":false,\"x\":[500,1000,2000,5000],\"xaxis\":\"x10\",\"y\":[0.157,0.191,0.145,0.182],\"yaxis\":\"y10\",\"type\":\"scatter\"},{\"hovertemplate\":\"variable=type_1_error_naive\\u003cbr\\u003econtrol_rate=0.05\\u003cbr\\u003eeffect=0.1\\u003cbr\\u003esample_size=%{x}\\u003cbr\\u003evalue=%{y}\\u003cextra\\u003e\\u003c\\u002fextra\\u003e\",\"legendgroup\":\"type_1_error_naive\",\"marker\":{\"color\":\"#EF553B\",\"symbol\":\"circle\"},\"mode\":\"markers\",\"name\":\"type_1_error_naive\",\"orientation\":\"v\",\"showlegend\":false,\"x\":[500,1000,2000,5000],\"xaxis\":\"x\",\"y\":[0.054,0.072,0.064,0.058],\"yaxis\":\"y\",\"type\":\"scatter\"},{\"hovertemplate\":\"variable=type_1_error_naive\\u003cbr\\u003econtrol_rate=0.05\\u003cbr\\u003eeffect=0.25\\u003cbr\\u003esample_size=%{x}\\u003cbr\\u003evalue=%{y}\\u003cextra\\u003e\\u003c\\u002fextra\\u003e\",\"legendgroup\":\"type_1_error_naive\",\"marker\":{\"color\":\"#EF553B\",\"symbol\":\"circle\"},\"mode\":\"markers\",\"name\":\"type_1_error_naive\",\"orientation\":\"v\",\"showlegend\":false,\"x\":[500,1000,2000,5000],\"xaxis\":\"x2\",\"y\":[0.079,0.073,0.065,0.082],\"yaxis\":\"y2\",\"type\":\"scatter\"},{\"hovertemplate\":\"variable=type_1_error_naive\\u003cbr\\u003econtrol_rate=0.05\\u003cbr\\u003eeffect=0.5\\u003cbr\\u003esample_size=%{x}\\u003cbr\\u003evalue=%{y}\\u003cextra\\u003e\\u003c\\u002fextra\\u003e\",\"legendgroup\":\"type_1_error_naive\",\"marker\":{\"color\":\"#EF553B\",\"symbol\":\"circle\"},\"mode\":\"markers\",\"name\":\"type_1_error_naive\",\"orientation\":\"v\",\"showlegend\":false,\"x\":[500,1000,2000,5000],\"xaxis\":\"x3\",\"y\":[0.103,0.116,0.091,0.093],\"yaxis\":\"y3\",\"type\":\"scatter\"},{\"hovertemplate\":\"variable=type_1_error_naive\\u003cbr\\u003econtrol_rate=0.05\\u003cbr\\u003eeffect=1.0\\u003cbr\\u003esample_size=%{x}\\u003cbr\\u003evalue=%{y}\\u003cextra\\u003e\\u003c\\u002fextra\\u003e\",\"legendgroup\":\"type_1_error_naive\",\"marker\":{\"color\":\"#EF553B\",\"symbol\":\"circle\"},\"mode\":\"markers\",\"name\":\"type_1_error_naive\",\"orientation\":\"v\",\"showlegend\":false,\"x\":[500,1000,2000,5000],\"xaxis\":\"x4\",\"y\":[0.112,0.111,0.126,0.137],\"yaxis\":\"y4\",\"type\":\"scatter\"},{\"hovertemplate\":\"variable=type_1_error_naive\\u003cbr\\u003econtrol_rate=0.05\\u003cbr\\u003eeffect=2.0\\u003cbr\\u003esample_size=%{x}\\u003cbr\\u003evalue=%{y}\\u003cextra\\u003e\\u003c\\u002fextra\\u003e\",\"legendgroup\":\"type_1_error_naive\",\"marker\":{\"color\":\"#EF553B\",\"symbol\":\"circle\"},\"mode\":\"markers\",\"name\":\"type_1_error_naive\",\"orientation\":\"v\",\"showlegend\":false,\"x\":[500,1000,2000,5000],\"xaxis\":\"x5\",\"y\":[0.167,0.186,0.175,0.168],\"yaxis\":\"y5\",\"type\":\"scatter\"}],                        {\"template\":{\"data\":{\"histogram2dcontour\":[{\"type\":\"histogram2dcontour\",\"colorbar\":{\"outlinewidth\":0,\"ticks\":\"\"},\"colorscale\":[[0.0,\"#0d0887\"],[0.1111111111111111,\"#46039f\"],[0.2222222222222222,\"#7201a8\"],[0.3333333333333333,\"#9c179e\"],[0.4444444444444444,\"#bd3786\"],[0.5555555555555556,\"#d8576b\"],[0.6666666666666666,\"#ed7953\"],[0.7777777777777778,\"#fb9f3a\"],[0.8888888888888888,\"#fdca26\"],[1.0,\"#f0f921\"]]}],\"choropleth\":[{\"type\":\"choropleth\",\"colorbar\":{\"outlinewidth\":0,\"ticks\":\"\"}}],\"histogram2d\":[{\"type\":\"histogram2d\",\"colorbar\":{\"outlinewidth\":0,\"ticks\":\"\"},\"colorscale\":[[0.0,\"#0d0887\"],[0.1111111111111111,\"#46039f\"],[0.2222222222222222,\"#7201a8\"],[0.3333333333333333,\"#9c179e\"],[0.4444444444444444,\"#bd3786\"],[0.5555555555555556,\"#d8576b\"],[0.6666666666666666,\"#ed7953\"],[0.7777777777777778,\"#fb9f3a\"],[0.8888888888888888,\"#fdca26\"],[1.0,\"#f0f921\"]]}],\"heatmap\":[{\"type\":\"heatmap\",\"colorbar\":{\"outlinewidth\":0,\"ticks\":\"\"},\"colorscale\":[[0.0,\"#0d0887\"],[0.1111111111111111,\"#46039f\"],[0.2222222222222222,\"#7201a8\"],[0.3333333333333333,\"#9c179e\"],[0.4444444444444444,\"#bd3786\"],[0.5555555555555556,\"#d8576b\"],[0.6666666666666666,\"#ed7953\"],[0.7777777777777778,\"#fb9f3a\"],[0.8888888888888888,\"#fdca26\"],[1.0,\"#f0f921\"]]}],\"heatmapgl\":[{\"type\":\"heatmapgl\",\"colorbar\":{\"outlinewidth\":0,\"ticks\":\"\"},\"colorscale\":[[0.0,\"#0d0887\"],[0.1111111111111111,\"#46039f\"],[0.2222222222222222,\"#7201a8\"],[0.3333333333333333,\"#9c179e\"],[0.4444444444444444,\"#bd3786\"],[0.5555555555555556,\"#d8576b\"],[0.6666666666666666,\"#ed7953\"],[0.7777777777777778,\"#fb9f3a\"],[0.8888888888888888,\"#fdca26\"],[1.0,\"#f0f921\"]]}],\"contourcarpet\":[{\"type\":\"contourcarpet\",\"colorbar\":{\"outlinewidth\":0,\"ticks\":\"\"}}],\"contour\":[{\"type\":\"contour\",\"colorbar\":{\"outlinewidth\":0,\"ticks\":\"\"},\"colorscale\":[[0.0,\"#0d0887\"],[0.1111111111111111,\"#46039f\"],[0.2222222222222222,\"#7201a8\"],[0.3333333333333333,\"#9c179e\"],[0.4444444444444444,\"#bd3786\"],[0.5555555555555556,\"#d8576b\"],[0.6666666666666666,\"#ed7953\"],[0.7777777777777778,\"#fb9f3a\"],[0.8888888888888888,\"#fdca26\"],[1.0,\"#f0f921\"]]}],\"surface\":[{\"type\":\"surface\",\"colorbar\":{\"outlinewidth\":0,\"ticks\":\"\"},\"colorscale\":[[0.0,\"#0d0887\"],[0.1111111111111111,\"#46039f\"],[0.2222222222222222,\"#7201a8\"],[0.3333333333333333,\"#9c179e\"],[0.4444444444444444,\"#bd3786\"],[0.5555555555555556,\"#d8576b\"],[0.6666666666666666,\"#ed7953\"],[0.7777777777777778,\"#fb9f3a\"],[0.8888888888888888,\"#fdca26\"],[1.0,\"#f0f921\"]]}],\"mesh3d\":[{\"type\":\"mesh3d\",\"colorbar\":{\"outlinewidth\":0,\"ticks\":\"\"}}],\"scatter\":[{\"fillpattern\":{\"fillmode\":\"overlay\",\"size\":10,\"solidity\":0.2},\"type\":\"scatter\"}],\"parcoords\":[{\"type\":\"parcoords\",\"line\":{\"colorbar\":{\"outlinewidth\":0,\"ticks\":\"\"}}}],\"scatterpolargl\":[{\"type\":\"scatterpolargl\",\"marker\":{\"colorbar\":{\"outlinewidth\":0,\"ticks\":\"\"}}}],\"bar\":[{\"error_x\":{\"color\":\"#2a3f5f\"},\"error_y\":{\"color\":\"#2a3f5f\"},\"marker\":{\"line\":{\"color\":\"#E5ECF6\",\"width\":0.5},\"pattern\":{\"fillmode\":\"overlay\",\"size\":10,\"solidity\":0.2}},\"type\":\"bar\"}],\"scattergeo\":[{\"type\":\"scattergeo\",\"marker\":{\"colorbar\":{\"outlinewidth\":0,\"ticks\":\"\"}}}],\"scatterpolar\":[{\"type\":\"scatterpolar\",\"marker\":{\"colorbar\":{\"outlinewidth\":0,\"ticks\":\"\"}}}],\"histogram\":[{\"marker\":{\"pattern\":{\"fillmode\":\"overlay\",\"size\":10,\"solidity\":0.2}},\"type\":\"histogram\"}],\"scattergl\":[{\"type\":\"scattergl\",\"marker\":{\"colorbar\":{\"outlinewidth\":0,\"ticks\":\"\"}}}],\"scatter3d\":[{\"type\":\"scatter3d\",\"line\":{\"colorbar\":{\"outlinewidth\":0,\"ticks\":\"\"}},\"marker\":{\"colorbar\":{\"outlinewidth\":0,\"ticks\":\"\"}}}],\"scattermapbox\":[{\"type\":\"scattermapbox\",\"marker\":{\"colorbar\":{\"outlinewidth\":0,\"ticks\":\"\"}}}],\"scatterternary\":[{\"type\":\"scatterternary\",\"marker\":{\"colorbar\":{\"outlinewidth\":0,\"ticks\":\"\"}}}],\"scattercarpet\":[{\"type\":\"scattercarpet\",\"marker\":{\"colorbar\":{\"outlinewidth\":0,\"ticks\":\"\"}}}],\"carpet\":[{\"aaxis\":{\"endlinecolor\":\"#2a3f5f\",\"gridcolor\":\"white\",\"linecolor\":\"white\",\"minorgridcolor\":\"white\",\"startlinecolor\":\"#2a3f5f\"},\"baxis\":{\"endlinecolor\":\"#2a3f5f\",\"gridcolor\":\"white\",\"linecolor\":\"white\",\"minorgridcolor\":\"white\",\"startlinecolor\":\"#2a3f5f\"},\"type\":\"carpet\"}],\"table\":[{\"cells\":{\"fill\":{\"color\":\"#EBF0F8\"},\"line\":{\"color\":\"white\"}},\"header\":{\"fill\":{\"color\":\"#C8D4E3\"},\"line\":{\"color\":\"white\"}},\"type\":\"table\"}],\"barpolar\":[{\"marker\":{\"line\":{\"color\":\"#E5ECF6\",\"width\":0.5},\"pattern\":{\"fillmode\":\"overlay\",\"size\":10,\"solidity\":0.2}},\"type\":\"barpolar\"}],\"pie\":[{\"automargin\":true,\"type\":\"pie\"}]},\"layout\":{\"autotypenumbers\":\"strict\",\"colorway\":[\"#636efa\",\"#EF553B\",\"#00cc96\",\"#ab63fa\",\"#FFA15A\",\"#19d3f3\",\"#FF6692\",\"#B6E880\",\"#FF97FF\",\"#FECB52\"],\"font\":{\"color\":\"#2a3f5f\"},\"hovermode\":\"closest\",\"hoverlabel\":{\"align\":\"left\"},\"paper_bgcolor\":\"white\",\"plot_bgcolor\":\"#E5ECF6\",\"polar\":{\"bgcolor\":\"#E5ECF6\",\"angularaxis\":{\"gridcolor\":\"white\",\"linecolor\":\"white\",\"ticks\":\"\"},\"radialaxis\":{\"gridcolor\":\"white\",\"linecolor\":\"white\",\"ticks\":\"\"}},\"ternary\":{\"bgcolor\":\"#E5ECF6\",\"aaxis\":{\"gridcolor\":\"white\",\"linecolor\":\"white\",\"ticks\":\"\"},\"baxis\":{\"gridcolor\":\"white\",\"linecolor\":\"white\",\"ticks\":\"\"},\"caxis\":{\"gridcolor\":\"white\",\"linecolor\":\"white\",\"ticks\":\"\"}},\"coloraxis\":{\"colorbar\":{\"outlinewidth\":0,\"ticks\":\"\"}},\"colorscale\":{\"sequential\":[[0.0,\"#0d0887\"],[0.1111111111111111,\"#46039f\"],[0.2222222222222222,\"#7201a8\"],[0.3333333333333333,\"#9c179e\"],[0.4444444444444444,\"#bd3786\"],[0.5555555555555556,\"#d8576b\"],[0.6666666666666666,\"#ed7953\"],[0.7777777777777778,\"#fb9f3a\"],[0.8888888888888888,\"#fdca26\"],[1.0,\"#f0f921\"]],\"sequentialminus\":[[0.0,\"#0d0887\"],[0.1111111111111111,\"#46039f\"],[0.2222222222222222,\"#7201a8\"],[0.3333333333333333,\"#9c179e\"],[0.4444444444444444,\"#bd3786\"],[0.5555555555555556,\"#d8576b\"],[0.6666666666666666,\"#ed7953\"],[0.7777777777777778,\"#fb9f3a\"],[0.8888888888888888,\"#fdca26\"],[1.0,\"#f0f921\"]],\"diverging\":[[0,\"#8e0152\"],[0.1,\"#c51b7d\"],[0.2,\"#de77ae\"],[0.3,\"#f1b6da\"],[0.4,\"#fde0ef\"],[0.5,\"#f7f7f7\"],[0.6,\"#e6f5d0\"],[0.7,\"#b8e186\"],[0.8,\"#7fbc41\"],[0.9,\"#4d9221\"],[1,\"#276419\"]]},\"xaxis\":{\"gridcolor\":\"white\",\"linecolor\":\"white\",\"ticks\":\"\",\"title\":{\"standoff\":15},\"zerolinecolor\":\"white\",\"automargin\":true,\"zerolinewidth\":2},\"yaxis\":{\"gridcolor\":\"white\",\"linecolor\":\"white\",\"ticks\":\"\",\"title\":{\"standoff\":15},\"zerolinecolor\":\"white\",\"automargin\":true,\"zerolinewidth\":2},\"scene\":{\"xaxis\":{\"backgroundcolor\":\"#E5ECF6\",\"gridcolor\":\"white\",\"linecolor\":\"white\",\"showbackground\":true,\"ticks\":\"\",\"zerolinecolor\":\"white\",\"gridwidth\":2},\"yaxis\":{\"backgroundcolor\":\"#E5ECF6\",\"gridcolor\":\"white\",\"linecolor\":\"white\",\"showbackground\":true,\"ticks\":\"\",\"zerolinecolor\":\"white\",\"gridwidth\":2},\"zaxis\":{\"backgroundcolor\":\"#E5ECF6\",\"gridcolor\":\"white\",\"linecolor\":\"white\",\"showbackground\":true,\"ticks\":\"\",\"zerolinecolor\":\"white\",\"gridwidth\":2}},\"shapedefaults\":{\"line\":{\"color\":\"#2a3f5f\"}},\"annotationdefaults\":{\"arrowcolor\":\"#2a3f5f\",\"arrowhead\":0,\"arrowwidth\":1},\"geo\":{\"bgcolor\":\"white\",\"landcolor\":\"#E5ECF6\",\"subunitcolor\":\"white\",\"showland\":true,\"showlakes\":true,\"lakecolor\":\"white\"},\"title\":{\"x\":0.05},\"mapbox\":{\"style\":\"light\"}}},\"xaxis\":{\"anchor\":\"y\",\"domain\":[0.0,0.18000000000000002],\"title\":{\"text\":\"\"}},\"yaxis\":{\"anchor\":\"x\",\"domain\":[0.0,0.2275],\"title\":{\"text\":\"\"}},\"xaxis2\":{\"anchor\":\"y2\",\"domain\":[0.2,0.38],\"matches\":\"x\",\"title\":{\"text\":\"\"}},\"yaxis2\":{\"anchor\":\"x2\",\"domain\":[0.0,0.2275],\"matches\":\"y\",\"showticklabels\":false,\"title\":{\"text\":\"\"}},\"xaxis3\":{\"anchor\":\"y3\",\"domain\":[0.4,0.5800000000000001],\"matches\":\"x\",\"title\":{\"text\":\"\"}},\"yaxis3\":{\"anchor\":\"x3\",\"domain\":[0.0,0.2275],\"matches\":\"y\",\"showticklabels\":false,\"title\":{\"text\":\"\"}},\"xaxis4\":{\"anchor\":\"y4\",\"domain\":[0.6000000000000001,0.7800000000000001],\"matches\":\"x\",\"title\":{\"text\":\"\"}},\"yaxis4\":{\"anchor\":\"x4\",\"domain\":[0.0,0.2275],\"matches\":\"y\",\"showticklabels\":false,\"title\":{\"text\":\"\"}},\"xaxis5\":{\"anchor\":\"y5\",\"domain\":[0.8,0.9800000000000001],\"matches\":\"x\",\"title\":{\"text\":\"\"}},\"yaxis5\":{\"anchor\":\"x5\",\"domain\":[0.0,0.2275],\"matches\":\"y\",\"showticklabels\":false,\"title\":{\"text\":\"\"}},\"xaxis6\":{\"anchor\":\"y6\",\"domain\":[0.0,0.18000000000000002],\"matches\":\"x\",\"showticklabels\":false,\"title\":{\"text\":\"\"}},\"yaxis6\":{\"anchor\":\"x6\",\"domain\":[0.2575,0.485],\"matches\":\"y\",\"title\":{\"text\":\"\"}},\"xaxis7\":{\"anchor\":\"y7\",\"domain\":[0.2,0.38],\"matches\":\"x\",\"showticklabels\":false,\"title\":{\"text\":\"\"}},\"yaxis7\":{\"anchor\":\"x7\",\"domain\":[0.2575,0.485],\"matches\":\"y\",\"showticklabels\":false,\"title\":{\"text\":\"\"}},\"xaxis8\":{\"anchor\":\"y8\",\"domain\":[0.4,0.5800000000000001],\"matches\":\"x\",\"showticklabels\":false,\"title\":{\"text\":\"\"}},\"yaxis8\":{\"anchor\":\"x8\",\"domain\":[0.2575,0.485],\"matches\":\"y\",\"showticklabels\":false,\"title\":{\"text\":\"\"}},\"xaxis9\":{\"anchor\":\"y9\",\"domain\":[0.6000000000000001,0.7800000000000001],\"matches\":\"x\",\"showticklabels\":false,\"title\":{\"text\":\"\"}},\"yaxis9\":{\"anchor\":\"x9\",\"domain\":[0.2575,0.485],\"matches\":\"y\",\"showticklabels\":false,\"title\":{\"text\":\"\"}},\"xaxis10\":{\"anchor\":\"y10\",\"domain\":[0.8,0.9800000000000001],\"matches\":\"x\",\"showticklabels\":false,\"title\":{\"text\":\"\"}},\"yaxis10\":{\"anchor\":\"x10\",\"domain\":[0.2575,0.485],\"matches\":\"y\",\"showticklabels\":false,\"title\":{\"text\":\"\"}},\"xaxis11\":{\"anchor\":\"y11\",\"domain\":[0.0,0.18000000000000002],\"matches\":\"x\",\"showticklabels\":false,\"title\":{\"text\":\"\"}},\"yaxis11\":{\"anchor\":\"x11\",\"domain\":[0.515,0.7425],\"matches\":\"y\",\"title\":{\"text\":\"\"}},\"xaxis12\":{\"anchor\":\"y12\",\"domain\":[0.2,0.38],\"matches\":\"x\",\"showticklabels\":false,\"title\":{\"text\":\"\"}},\"yaxis12\":{\"anchor\":\"x12\",\"domain\":[0.515,0.7425],\"matches\":\"y\",\"showticklabels\":false,\"title\":{\"text\":\"\"}},\"xaxis13\":{\"anchor\":\"y13\",\"domain\":[0.4,0.5800000000000001],\"matches\":\"x\",\"showticklabels\":false,\"title\":{\"text\":\"\"}},\"yaxis13\":{\"anchor\":\"x13\",\"domain\":[0.515,0.7425],\"matches\":\"y\",\"showticklabels\":false,\"title\":{\"text\":\"\"}},\"xaxis14\":{\"anchor\":\"y14\",\"domain\":[0.6000000000000001,0.7800000000000001],\"matches\":\"x\",\"showticklabels\":false,\"title\":{\"text\":\"\"}},\"yaxis14\":{\"anchor\":\"x14\",\"domain\":[0.515,0.7425],\"matches\":\"y\",\"showticklabels\":false,\"title\":{\"text\":\"\"}},\"xaxis15\":{\"anchor\":\"y15\",\"domain\":[0.8,0.9800000000000001],\"matches\":\"x\",\"showticklabels\":false,\"title\":{\"text\":\"\"}},\"yaxis15\":{\"anchor\":\"x15\",\"domain\":[0.515,0.7425],\"matches\":\"y\",\"showticklabels\":false,\"title\":{\"text\":\"\"}},\"xaxis16\":{\"anchor\":\"y16\",\"domain\":[0.0,0.18000000000000002],\"matches\":\"x\",\"showticklabels\":false,\"title\":{\"text\":\"\"}},\"yaxis16\":{\"anchor\":\"x16\",\"domain\":[0.7725,1.0],\"matches\":\"y\",\"title\":{\"text\":\"\"}},\"xaxis17\":{\"anchor\":\"y17\",\"domain\":[0.2,0.38],\"matches\":\"x\",\"showticklabels\":false,\"title\":{\"text\":\"\"}},\"yaxis17\":{\"anchor\":\"x17\",\"domain\":[0.7725,1.0],\"matches\":\"y\",\"showticklabels\":false,\"title\":{\"text\":\"\"}},\"xaxis18\":{\"anchor\":\"y18\",\"domain\":[0.4,0.5800000000000001],\"matches\":\"x\",\"showticklabels\":false,\"title\":{\"text\":\"\"}},\"yaxis18\":{\"anchor\":\"x18\",\"domain\":[0.7725,1.0],\"matches\":\"y\",\"showticklabels\":false,\"title\":{\"text\":\"\"}},\"xaxis19\":{\"anchor\":\"y19\",\"domain\":[0.6000000000000001,0.7800000000000001],\"matches\":\"x\",\"showticklabels\":false,\"title\":{\"text\":\"\"}},\"yaxis19\":{\"anchor\":\"x19\",\"domain\":[0.7725,1.0],\"matches\":\"y\",\"showticklabels\":false,\"title\":{\"text\":\"\"}},\"xaxis20\":{\"anchor\":\"y20\",\"domain\":[0.8,0.9800000000000001],\"matches\":\"x\",\"showticklabels\":false,\"title\":{\"text\":\"\"}},\"yaxis20\":{\"anchor\":\"x20\",\"domain\":[0.7725,1.0],\"matches\":\"y\",\"showticklabels\":false,\"title\":{\"text\":\"\"}},\"annotations\":[{\"showarrow\":false,\"text\":\"effect=0.1\",\"x\":0.09000000000000001,\"xanchor\":\"center\",\"xref\":\"paper\",\"y\":1.0,\"yanchor\":\"bottom\",\"yref\":\"paper\"},{\"showarrow\":false,\"text\":\"effect=0.25\",\"x\":0.29000000000000004,\"xanchor\":\"center\",\"xref\":\"paper\",\"y\":1.0,\"yanchor\":\"bottom\",\"yref\":\"paper\"},{\"showarrow\":false,\"text\":\"effect=0.5\",\"x\":0.49000000000000005,\"xanchor\":\"center\",\"xref\":\"paper\",\"y\":1.0,\"yanchor\":\"bottom\",\"yref\":\"paper\"},{\"showarrow\":false,\"text\":\"effect=1.0\",\"x\":0.6900000000000002,\"xanchor\":\"center\",\"xref\":\"paper\",\"y\":1.0,\"yanchor\":\"bottom\",\"yref\":\"paper\"},{\"showarrow\":false,\"text\":\"effect=2.0\",\"x\":0.8900000000000001,\"xanchor\":\"center\",\"xref\":\"paper\",\"y\":1.0,\"yanchor\":\"bottom\",\"yref\":\"paper\"},{\"showarrow\":false,\"text\":\"control_rate=0.05\",\"textangle\":90,\"x\":0.9800000000000001,\"xanchor\":\"left\",\"xref\":\"paper\",\"y\":0.11375,\"yanchor\":\"middle\",\"yref\":\"paper\"},{\"showarrow\":false,\"text\":\"control_rate=0.02\",\"textangle\":90,\"x\":0.9800000000000001,\"xanchor\":\"left\",\"xref\":\"paper\",\"y\":0.37124999999999997,\"yanchor\":\"middle\",\"yref\":\"paper\"},{\"showarrow\":false,\"text\":\"control_rate=0.01\",\"textangle\":90,\"x\":0.9800000000000001,\"xanchor\":\"left\",\"xref\":\"paper\",\"y\":0.62875,\"yanchor\":\"middle\",\"yref\":\"paper\"},{\"showarrow\":false,\"text\":\"control_rate=0.005\",\"textangle\":90,\"x\":0.9800000000000001,\"xanchor\":\"left\",\"xref\":\"paper\",\"y\":0.88625,\"yanchor\":\"middle\",\"yref\":\"paper\"},{\"font\":{\"color\":\"black\",\"size\":16},\"showarrow\":false,\"text\":\"Type 1 Error Rate\",\"textangle\":-90,\"x\":-0.1,\"xref\":\"paper\",\"y\":0.5,\"yref\":\"paper\"},{\"font\":{\"color\":\"black\",\"size\":16},\"showarrow\":false,\"text\":\"Sample Size\",\"textangle\":0,\"x\":0.5,\"xref\":\"paper\",\"y\":-0.08,\"yref\":\"paper\"}],\"legend\":{\"title\":{\"text\":\"variable\"},\"tracegroupgap\":0},\"title\":{\"text\":\"Type 1 error rates as function of sample size, control rate and relative effect\"},\"height\":1000,\"width\":900},                        {\"responsive\": true}                    ).then(function(){\n",
       "                            \n",
       "var gd = document.getElementById('97f9ec13-a80c-44b4-9cfa-136c452571e2');\n",
       "var x = new MutationObserver(function (mutations, observer) {{\n",
       "        var display = window.getComputedStyle(gd).display;\n",
       "        if (!display || display === 'none') {{\n",
       "            console.log([gd, 'removed!']);\n",
       "            Plotly.purge(gd);\n",
       "            observer.disconnect();\n",
       "        }}\n",
       "}});\n",
       "\n",
       "// Listen for the removal of the full notebook cells\n",
       "var notebookContainer = gd.closest('#notebook-container');\n",
       "if (notebookContainer) {{\n",
       "    x.observe(notebookContainer, {childList: true});\n",
       "}}\n",
       "\n",
       "// Listen for the clearing of the current output cell\n",
       "var outputEl = gd.closest('.output');\n",
       "if (outputEl) {{\n",
       "    x.observe(outputEl, {childList: true});\n",
       "}}\n",
       "\n",
       "                        })                };                });            </script>        </div>"
      ]
     },
     "metadata": {},
     "output_type": "display_data"
    }
   ],
   "source": [
    "import plotly.express as px\n",
    "import plotly.graph_objects as go\n",
    "\n",
    "fig = px.scatter(res_final, \n",
    "                 x=\"sample_size\", \n",
    "                 y=[\"type_1_error_bootstrap\",'type_1_error_naive'],\n",
    "                 facet_row=\"control_rate\", \n",
    "                 facet_col='effect',\n",
    "                width=900, \n",
    "                 height=1000,\n",
    "                title=\"Type 1 error rates as function of sample size, control rate and relative effect\")\n",
    "\n",
    "for axis in fig.layout:\n",
    "    if type(fig.layout[axis]) == go.layout.YAxis:\n",
    "        fig.layout[axis].title.text = ''\n",
    "    if type(fig.layout[axis]) == go.layout.XAxis:\n",
    "        fig.layout[axis].title.text = ''\n",
    "        \n",
    "fig.update_layout(\n",
    "    # keep the original annotations and add a list of new annotations:\n",
    "    annotations = list(fig.layout.annotations) + \n",
    "    [go.layout.Annotation(\n",
    "            x=-0.1,\n",
    "            y=0.5,\n",
    "            font=dict(\n",
    "                size=16, color = 'black'\n",
    "            ),\n",
    "            showarrow=False,\n",
    "            text=\"Type 1 Error Rate\",\n",
    "            textangle=-90,\n",
    "            xref=\"paper\",\n",
    "            yref=\"paper\"\n",
    "        )\n",
    "    ] +\n",
    "    [go.layout.Annotation(\n",
    "            x=0.5,\n",
    "            y=-0.08,\n",
    "            font=dict(\n",
    "                size=16, color = 'black'\n",
    "            ),\n",
    "            showarrow=False,\n",
    "            text=\"Sample Size\",\n",
    "            textangle=-0,\n",
    "            xref=\"paper\",\n",
    "            yref=\"paper\"\n",
    "        )\n",
    "    ]\n",
    ")\n",
    "fig.show()"
   ]
  },
  {
   "cell_type": "markdown",
   "id": "097c9bd7-63b2-49ad-b7a8-8fb1182fa933",
   "metadata": {},
   "source": [
    "Some observations to make based on the results:  \n",
    "\n",
    "1. Using the bootstrap to estimate the relative change appears to be robust when sample size times control rate is greater than 25.\n",
    "Loosely speaking, once we have 25 or more conversions in our control group (and regardless of true effect and sample size), our nominal type 1 error\n",
    "matches the empirical type 1 error from the bootstrap (within +/- 1.5% error)  \n",
    "2. Our Type 1 error using the naive transform rises substantially when the true relative change rises. For example,\n",
    "when the actual relative change is 200%, control rate is 5%, sample size is 1000 and our null hypothesis is that the relative change is less than 200%, we will mistakenly\n",
    "conclude the effect is greater than 200% 18.6% of the time - much higher than the nominal 5% significance we thought we were accepting!  \n",
    "3. The last point worth highlighting is that we are considering the largest effect possible that satisfies the null hypothesis. So we are estimating the max Type 1 error for a given null hypothesis. Using the same\n",
    "example as in point 2, if our null hypothesis is that the relative change is less than 200% and the actual relative change had been 150%, then our practical Type 1 error\n",
    "will be less than 18.6%."
   ]
  },
  {
   "cell_type": "markdown",
   "id": "f484cc06-3bdd-4480-b93c-dd54a4c7ea73",
   "metadata": {},
   "source": [
    "#### Conclusion"
   ]
  },
  {
   "cell_type": "markdown",
   "id": "792a6446-a4ea-43a8-9a00-9ae184513aec",
   "metadata": {},
   "source": [
    "So what we have proved with this analysis? It's twofold:  \n",
    "1. We've shown that using bootstrapped confidence intervals for relative change hypotheses are relatively (pardon the pun) robust.  \n",
    "2. Put forward reasons against the use of naive relative change to quantify relative change in A/B testing.  \n",
    "\n",
    "Therefore, to run a \"Superiority\" A/B test:\n",
    "1. Specify the null and alternative hypothesis (with accepted significance level $\\alpha$) based on the relative change hurdle. If the variant needs to beat control by 5% in relative terms then then null hypothesis is that the relative change between control and variant is less than 5%, the alternative is that the relative change is greater than or equal to 5%.\n",
    "2. Run the booststrap to estimate the sampling distribution of the relative change in the sample control mean and sample variant mean.\n",
    "3. Construct the $(1-2\\alpha)$ confidence interval for the relative change between the sample control mean and sample variant mean. If the confidence interval clears the hurdle, then we can reject the one-sided null hypothesis at significance level $\\alpha$ we laid out in step 1\n",
    "   "
   ]
  },
  {
   "cell_type": "markdown",
   "id": "a4f3d3fc-0e37-4ca8-9265-301874354599",
   "metadata": {},
   "source": [
    "## References\n"
   ]
  },
  {
   "cell_type": "markdown",
   "id": "9dbe2264-c6b8-4f1d-8e6a-7721ee624e3e",
   "metadata": {},
   "source": [
    "GeorgiGeorgiev-Geo (2017). The Case for Non-Inferiority A/B Tests. [online] Blog for Web Analytics, Statistics and Data-Driven Internet Marketing | Analytics-Toolkit.com. Available at: https://blog.analytics-toolkit.com/2017/case-non-inferiority-designs-ab-testing/ [Accessed 10 Mar. 2024]"
   ]
  },
  {
   "cell_type": "code",
   "execution_count": null,
   "id": "3b3cb8aa-0af3-48dc-88e8-fdb669c4973a",
   "metadata": {},
   "outputs": [],
   "source": []
  }
 ],
 "metadata": {
  "kernelspec": {
   "display_name": "Python 3 (ipykernel)",
   "language": "python",
   "name": "python3"
  },
  "language_info": {
   "codemirror_mode": {
    "name": "ipython",
    "version": 3
   },
   "file_extension": ".py",
   "mimetype": "text/x-python",
   "name": "python",
   "nbconvert_exporter": "python",
   "pygments_lexer": "ipython3",
   "version": "3.9.18"
  }
 },
 "nbformat": 4,
 "nbformat_minor": 5
}
